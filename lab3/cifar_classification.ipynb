{
 "cells": [
  {
   "cell_type": "code",
   "execution_count": 0,
   "metadata": {
    "colab": {
     "base_uri": "https://localhost:8080/",
     "height": 62
    },
    "colab_type": "code",
    "id": "OK9iaRZb-7z7",
    "outputId": "495bcd2e-04d1-4397-e0f9-d5e0b0c5f8dd"
   },
   "outputs": [
    {
     "data": {
      "text/html": [
       "<p style=\"color: red;\">\n",
       "The default version of TensorFlow in Colab will soon switch to TensorFlow 2.x.<br>\n",
       "We recommend you <a href=\"https://www.tensorflow.org/guide/migrate\" target=\"_blank\">upgrade</a> now \n",
       "or ensure your notebook will continue to use TensorFlow 1.x via the <code>%tensorflow_version 1.x</code> magic:\n",
       "<a href=\"https://colab.research.google.com/notebooks/tensorflow_version.ipynb\" target=\"_blank\">more info</a>.</p>\n"
      ],
      "text/plain": [
       "<IPython.core.display.HTML object>"
      ]
     },
     "metadata": {
      "tags": []
     },
     "output_type": "display_data"
    }
   ],
   "source": [
    "import tensorflow as tf\n",
    "from tensorflow.keras import datasets, layers, models\n",
    "import matplotlib.pyplot as plt\n",
    "import random\n",
    "import numpy as np"
   ]
  },
  {
   "cell_type": "code",
   "execution_count": 0,
   "metadata": {
    "colab": {
     "base_uri": "https://localhost:8080/",
     "height": 50
    },
    "colab_type": "code",
    "id": "ZTlCax98-70B",
    "outputId": "0bfe628a-658e-4d60-e072-ff73c40d09ee"
   },
   "outputs": [
    {
     "name": "stdout",
     "output_type": "stream",
     "text": [
      "Downloading data from https://www.cs.toronto.edu/~kriz/cifar-10-python.tar.gz\n",
      "170500096/170498071 [==============================] - 11s 0us/step\n"
     ]
    }
   ],
   "source": [
    "(Others, yothers), (xtest, ytest) = datasets.cifar10.load_data()\n",
    "i = 0;\n",
    "train_images = []\n",
    "train_labels = []\n",
    "validation_images = []\n",
    "validation_labels = []\n",
    "for i in range(50000):\n",
    "    if random.random() < 0.8:\n",
    "        train_images.append(Others[i])\n",
    "        train_labels.append(yothers[i])\n",
    "    else:\n",
    "        validation_images.append(Others[i])\n",
    "        validation_labels.append(yothers[i])\n",
    "\n",
    "xtrain = np.array(train_images)\n",
    "ytrain = np.array(train_labels)\n",
    "\n",
    "xvalid = np.array(validation_images)\n",
    "yvalid = np.array(validation_labels)\n",
    "\n",
    "xtest = xtest/255.0\n",
    "xtrain = xtrain/255.0\n",
    "xvalid = xvalid/255.0"
   ]
  },
  {
   "cell_type": "markdown",
   "metadata": {
    "colab_type": "text",
    "id": "wVreZzBd-70D"
   },
   "source": [
    "# MODEL1"
   ]
  },
  {
   "cell_type": "code",
   "execution_count": 0,
   "metadata": {
    "colab": {
     "base_uri": "https://localhost:8080/",
     "height": 1000
    },
    "colab_type": "code",
    "id": "kXB-B-zF-70E",
    "outputId": "1de1cd08-e14f-4120-a714-9734e86e77fd"
   },
   "outputs": [
    {
     "name": "stdout",
     "output_type": "stream",
     "text": [
      "WARNING:tensorflow:From /usr/local/lib/python3.6/dist-packages/tensorflow_core/python/ops/resource_variable_ops.py:1630: calling BaseResourceVariable.__init__ (from tensorflow.python.ops.resource_variable_ops) with constraint is deprecated and will be removed in a future version.\n",
      "Instructions for updating:\n",
      "If using Keras pass *_constraint arguments to layers.\n",
      "Train on 39901 samples, validate on 10099 samples\n",
      "Epoch 1/10\n",
      "39901/39901 [==============================] - 8s 210us/sample - loss: 1.5421 - acc: 0.4387 - val_loss: 1.2761 - val_acc: 0.5380\n",
      "Epoch 2/10\n",
      "39901/39901 [==============================] - 5s 113us/sample - loss: 1.2114 - acc: 0.5723 - val_loss: 1.1169 - val_acc: 0.6061\n",
      "Epoch 3/10\n",
      "39901/39901 [==============================] - 5s 115us/sample - loss: 1.0470 - acc: 0.6341 - val_loss: 1.0242 - val_acc: 0.6421\n",
      "Epoch 4/10\n",
      "39901/39901 [==============================] - 5s 114us/sample - loss: 0.9534 - acc: 0.6658 - val_loss: 1.0870 - val_acc: 0.6226\n",
      "Epoch 5/10\n",
      "39901/39901 [==============================] - 5s 115us/sample - loss: 0.8740 - acc: 0.6960 - val_loss: 0.9812 - val_acc: 0.6646\n",
      "Epoch 6/10\n",
      "39901/39901 [==============================] - 5s 114us/sample - loss: 0.8059 - acc: 0.7167 - val_loss: 0.9848 - val_acc: 0.6600\n",
      "Epoch 7/10\n",
      "39901/39901 [==============================] - 5s 114us/sample - loss: 0.7525 - acc: 0.7367 - val_loss: 0.9791 - val_acc: 0.6658\n",
      "Epoch 8/10\n",
      "39901/39901 [==============================] - 5s 114us/sample - loss: 0.7055 - acc: 0.7522 - val_loss: 0.9694 - val_acc: 0.6771\n",
      "Epoch 9/10\n",
      "39901/39901 [==============================] - 5s 114us/sample - loss: 0.6547 - acc: 0.7710 - val_loss: 0.9840 - val_acc: 0.6747\n",
      "Epoch 10/10\n",
      "39901/39901 [==============================] - 4s 112us/sample - loss: 0.6175 - acc: 0.7814 - val_loss: 1.0264 - val_acc: 0.6688\n"
     ]
    },
    {
     "data": {
      "image/png": "[encoded data removed]",
      "text/plain": [
       "<Figure size 432x288 with 1 Axes>"
      ]
     },
     "metadata": {
      "tags": []
     },
     "output_type": "display_data"
    },
    {
     "data": {
      "image/png": "[encoded data removed]",
      "text/plain": [
       "<Figure size 432x288 with 1 Axes>"
      ]
     },
     "metadata": {
      "tags": []
     },
     "output_type": "display_data"
    },
    {
     "name": "stdout",
     "output_type": "stream",
     "text": [
      "10000/10000 - 1s - loss: 1.0437 - acc: 0.6608\n",
      "test accuracy = 0.6607999801635742\n",
      "Model: \"sequential\"\n",
      "_________________________________________________________________\n",
      "Layer (type)                 Output Shape              Param #   \n",
      "=================================================================\n",
      "conv2d (Conv2D)              (None, 28, 28, 32)        2432      \n",
      "_________________________________________________________________\n",
      "max_pooling2d (MaxPooling2D) (None, 14, 14, 32)        0         \n",
      "_________________________________________________________________\n",
      "conv2d_1 (Conv2D)            (None, 10, 10, 64)        51264     \n",
      "_________________________________________________________________\n",
      "max_pooling2d_1 (MaxPooling2 (None, 5, 5, 64)          0         \n",
      "_________________________________________________________________\n",
      "flatten (Flatten)            (None, 1600)              0         \n",
      "_________________________________________________________________\n",
      "dense (Dense)                (None, 64)                102464    \n",
      "_________________________________________________________________\n",
      "dense_1 (Dense)              (None, 10)                650       \n",
      "=================================================================\n",
      "Total params: 156,810\n",
      "Trainable params: 156,810\n",
      "Non-trainable params: 0\n",
      "_________________________________________________________________\n",
      "None\n"
     ]
    }
   ],
   "source": [
    "model = models.Sequential()\n",
    "model.add(layers.Conv2D(32, (5, 5), activation='relu', input_shape=(32, 32, 3)))\n",
    "model.add(layers.MaxPooling2D((2, 2)))\n",
    "model.add(layers.Conv2D(64, (5, 5), activation='relu'))\n",
    "model.add(layers.MaxPooling2D((2, 2)))\n",
    "model.add(layers.Flatten());\n",
    "model.add(layers.Dense(64, activation='relu'))\n",
    "model.add(layers.Dense(10, activation='softmax'))\n",
    "\n",
    "\n",
    "model.compile(optimizer='adam',\n",
    "              loss='sparse_categorical_crossentropy',\n",
    "              metrics=['accuracy'])\n",
    "\n",
    "history1 = model.fit(xtrain, ytrain, epochs=10, \n",
    "                    validation_data=(xvalid, yvalid))\n",
    "\n",
    "plt.ylabel('classification accuracy ')\n",
    "plt.xlabel('Iterations')\n",
    "plt.plot(history1.history['acc'],'g')\n",
    "plt.show()\n",
    "\n",
    "plt.ylabel('Loss')\n",
    "plt.xlabel('Iterations')\n",
    "plt.plot(history1.history['loss'],'r')\n",
    "plt.show()\n",
    "\n",
    "test_loss, test_acc = model.evaluate(xtest,  ytest, verbose=2)\n",
    "print(f'test accuracy = {test_acc}')\n",
    "print(model.summary())"
   ]
  },
  {
   "cell_type": "markdown",
   "metadata": {
    "colab_type": "text",
    "id": "82LD4_dg-70H"
   },
   "source": [
    "# MODEL2"
   ]
  },
  {
   "cell_type": "code",
   "execution_count": 0,
   "metadata": {
    "colab": {
     "base_uri": "https://localhost:8080/",
     "height": 1000
    },
    "colab_type": "code",
    "id": "nfXo_uQW-70I",
    "outputId": "a3b0711e-7052-4ce1-ba95-4bece6781603"
   },
   "outputs": [
    {
     "name": "stdout",
     "output_type": "stream",
     "text": [
      "Train on 39901 samples, validate on 10099 samples\n",
      "Epoch 1/10\n",
      "39901/39901 [==============================] - 4s 108us/sample - loss: 1.7057 - acc: 0.3780 - val_loss: 1.4593 - val_acc: 0.4753\n",
      "Epoch 2/10\n",
      "39901/39901 [==============================] - 4s 104us/sample - loss: 1.4077 - acc: 0.5011 - val_loss: 1.3272 - val_acc: 0.5298\n",
      "Epoch 3/10\n",
      "39901/39901 [==============================] - 4s 105us/sample - loss: 1.2948 - acc: 0.5430 - val_loss: 1.2578 - val_acc: 0.5581\n",
      "Epoch 4/10\n",
      "39901/39901 [==============================] - 4s 107us/sample - loss: 1.2184 - acc: 0.5754 - val_loss: 1.2257 - val_acc: 0.5736\n",
      "Epoch 5/10\n",
      "39901/39901 [==============================] - 4s 103us/sample - loss: 1.1565 - acc: 0.5953 - val_loss: 1.2655 - val_acc: 0.5560\n",
      "Epoch 6/10\n",
      "39901/39901 [==============================] - 4s 105us/sample - loss: 1.1091 - acc: 0.6112 - val_loss: 1.2281 - val_acc: 0.5684\n",
      "Epoch 7/10\n",
      "39901/39901 [==============================] - 4s 104us/sample - loss: 1.0651 - acc: 0.6300 - val_loss: 1.1557 - val_acc: 0.6021\n",
      "Epoch 8/10\n",
      "39901/39901 [==============================] - 4s 106us/sample - loss: 1.0320 - acc: 0.6403 - val_loss: 1.1620 - val_acc: 0.5997\n",
      "Epoch 9/10\n",
      "39901/39901 [==============================] - 4s 104us/sample - loss: 0.9972 - acc: 0.6519 - val_loss: 1.1335 - val_acc: 0.6105\n",
      "Epoch 10/10\n",
      "39901/39901 [==============================] - 4s 105us/sample - loss: 0.9703 - acc: 0.6611 - val_loss: 1.1289 - val_acc: 0.6107\n"
     ]
    },
    {
     "data": {
      "image/png": "[encoded data removed]",
      "text/plain": [
       "<Figure size 432x288 with 1 Axes>"
      ]
     },
     "metadata": {
      "tags": []
     },
     "output_type": "display_data"
    },
    {
     "data": {
      "image/png": "[encoded data removed]",
      "text/plain": [
       "<Figure size 432x288 with 1 Axes>"
      ]
     },
     "metadata": {
      "tags": []
     },
     "output_type": "display_data"
    },
    {
     "name": "stdout",
     "output_type": "stream",
     "text": [
      "10000/10000 - 1s - loss: 1.1434 - acc: 0.6080\n",
      "test accuracy = 0.6079999804496765\n",
      "Model: \"sequential_1\"\n",
      "_________________________________________________________________\n",
      "Layer (type)                 Output Shape              Param #   \n",
      "=================================================================\n",
      "conv2d_2 (Conv2D)            (None, 28, 28, 32)        2432      \n",
      "_________________________________________________________________\n",
      "max_pooling2d_2 (MaxPooling2 (None, 9, 9, 32)          0         \n",
      "_________________________________________________________________\n",
      "conv2d_3 (Conv2D)            (None, 5, 5, 64)          51264     \n",
      "_________________________________________________________________\n",
      "max_pooling2d_3 (MaxPooling2 (None, 1, 1, 64)          0         \n",
      "_________________________________________________________________\n",
      "flatten_1 (Flatten)          (None, 64)                0         \n",
      "_________________________________________________________________\n",
      "dense_2 (Dense)              (None, 64)                4160      \n",
      "_________________________________________________________________\n",
      "dense_3 (Dense)              (None, 10)                650       \n",
      "=================================================================\n",
      "Total params: 58,506\n",
      "Trainable params: 58,506\n",
      "Non-trainable params: 0\n",
      "_________________________________________________________________\n",
      "None\n"
     ]
    }
   ],
   "source": [
    "model = models.Sequential()\n",
    "model.add(layers.Conv2D(32, (5, 5), activation='relu', input_shape=(32, 32, 3)))\n",
    "model.add(layers.MaxPooling2D((3, 3)))\n",
    "model.add(layers.Conv2D(64, (5, 5), activation='relu'))\n",
    "model.add(layers.MaxPooling2D((3, 3)))\n",
    "model.add(layers.Flatten());\n",
    "model.add(layers.Dense(64, activation='relu'))\n",
    "model.add(layers.Dense(10, activation='softmax'))\n",
    "\n",
    "\n",
    "model.compile(optimizer='adam',\n",
    "              loss='sparse_categorical_crossentropy',\n",
    "              metrics=['accuracy'])\n",
    "\n",
    "history1 = model.fit(xtrain, ytrain, epochs=10, \n",
    "                    validation_data=(xvalid, yvalid))\n",
    "\n",
    "plt.ylabel('classification accuracy ')\n",
    "plt.xlabel('Iterations')\n",
    "plt.plot(history1.history['acc'],'g')\n",
    "plt.show()\n",
    "\n",
    "plt.ylabel('Loss')\n",
    "plt.xlabel('Iterations')\n",
    "plt.plot(history1.history['loss'],'r')\n",
    "plt.show()\n",
    "\n",
    "test_loss, test_acc = model.evaluate(xtest,  ytest, verbose=2)\n",
    "print(f'test accuracy = {test_acc}')\n",
    "print(model.summary())"
   ]
  },
  {
   "cell_type": "markdown",
   "metadata": {
    "colab_type": "text",
    "id": "5D2ixgCZ-70K"
   },
   "source": [
    "# MODEL3"
   ]
  },
  {
   "cell_type": "code",
   "execution_count": 0,
   "metadata": {
    "colab": {
     "base_uri": "https://localhost:8080/",
     "height": 1000
    },
    "colab_type": "code",
    "id": "hm4e2d2f-70M",
    "outputId": "c6f0e32a-bb49-4f48-9c84-0f4d3e3f610b"
   },
   "outputs": [
    {
     "name": "stdout",
     "output_type": "stream",
     "text": [
      "Train on 39901 samples, validate on 10099 samples\n",
      "Epoch 1/10\n",
      "39901/39901 [==============================] - 5s 113us/sample - loss: 1.5054 - acc: 0.4566 - val_loss: 1.2568 - val_acc: 0.5533\n",
      "Epoch 2/10\n",
      "39901/39901 [==============================] - 4s 110us/sample - loss: 1.1563 - acc: 0.5931 - val_loss: 1.1183 - val_acc: 0.6052\n",
      "Epoch 3/10\n",
      "39901/39901 [==============================] - 4s 109us/sample - loss: 1.0095 - acc: 0.6434 - val_loss: 1.0310 - val_acc: 0.6387\n",
      "Epoch 4/10\n",
      "39901/39901 [==============================] - 4s 109us/sample - loss: 0.9135 - acc: 0.6825 - val_loss: 1.0298 - val_acc: 0.6403\n",
      "Epoch 5/10\n",
      "39901/39901 [==============================] - 5s 113us/sample - loss: 0.8320 - acc: 0.7109 - val_loss: 0.9902 - val_acc: 0.6639\n",
      "Epoch 6/10\n",
      "39901/39901 [==============================] - 4s 111us/sample - loss: 0.7674 - acc: 0.7310 - val_loss: 0.9294 - val_acc: 0.6905\n",
      "Epoch 7/10\n",
      "39901/39901 [==============================] - 4s 112us/sample - loss: 0.7081 - acc: 0.7531 - val_loss: 0.9180 - val_acc: 0.6882\n",
      "Epoch 8/10\n",
      "39901/39901 [==============================] - 4s 109us/sample - loss: 0.6561 - acc: 0.7708 - val_loss: 0.9320 - val_acc: 0.6980\n",
      "Epoch 9/10\n",
      "39901/39901 [==============================] - 4s 108us/sample - loss: 0.6108 - acc: 0.7874 - val_loss: 0.9217 - val_acc: 0.7002\n",
      "Epoch 10/10\n",
      "39901/39901 [==============================] - 4s 109us/sample - loss: 0.5657 - acc: 0.7998 - val_loss: 0.9335 - val_acc: 0.6991\n"
     ]
    },
    {
     "data": {
      "image/png": "[encoded data removed]",
      "text/plain": [
       "<Figure size 432x288 with 1 Axes>"
      ]
     },
     "metadata": {
      "tags": []
     },
     "output_type": "display_data"
    },
    {
     "data": {
      "image/png": "[encoded data removed]",
      "text/plain": [
       "<Figure size 432x288 with 1 Axes>"
      ]
     },
     "metadata": {
      "tags": []
     },
     "output_type": "display_data"
    },
    {
     "name": "stdout",
     "output_type": "stream",
     "text": [
      "10000/10000 - 1s - loss: 0.9467 - acc: 0.6947\n",
      "test Accuracy = 0.6947000026702881\n",
      "Model: \"sequential_2\"\n",
      "_________________________________________________________________\n",
      "Layer (type)                 Output Shape              Param #   \n",
      "=================================================================\n",
      "conv2d_4 (Conv2D)            (None, 30, 30, 32)        896       \n",
      "_________________________________________________________________\n",
      "max_pooling2d_4 (MaxPooling2 (None, 15, 15, 32)        0         \n",
      "_________________________________________________________________\n",
      "conv2d_5 (Conv2D)            (None, 13, 13, 64)        18496     \n",
      "_________________________________________________________________\n",
      "max_pooling2d_5 (MaxPooling2 (None, 6, 6, 64)          0         \n",
      "_________________________________________________________________\n",
      "flatten_2 (Flatten)          (None, 2304)              0         \n",
      "_________________________________________________________________\n",
      "dense_4 (Dense)              (None, 64)                147520    \n",
      "_________________________________________________________________\n",
      "dense_5 (Dense)              (None, 10)                650       \n",
      "=================================================================\n",
      "Total params: 167,562\n",
      "Trainable params: 167,562\n",
      "Non-trainable params: 0\n",
      "_________________________________________________________________\n",
      "None\n"
     ]
    }
   ],
   "source": [
    "model = models.Sequential()\n",
    "model.add(layers.Conv2D(32, (3, 3), activation='relu', input_shape=(32, 32, 3)))\n",
    "model.add(layers.MaxPooling2D((2, 2)))\n",
    "model.add(layers.Conv2D(64, (3, 3), activation='relu'))\n",
    "model.add(layers.MaxPooling2D((2, 2)))\n",
    "model.add(layers.Flatten());\n",
    "model.add(layers.Dense(64, activation='relu'))\n",
    "model.add(layers.Dense(10, activation='softmax'))\n",
    "\n",
    "\n",
    "model.compile(optimizer='adam',\n",
    "              loss='sparse_categorical_crossentropy',\n",
    "              metrics=['accuracy'])\n",
    "\n",
    "history1 = model.fit(xtrain, ytrain, epochs=10, \n",
    "                    validation_data=(xvalid, yvalid))\n",
    "\n",
    "\n",
    "plt.ylabel('classification accuracy ')\n",
    "plt.xlabel('Iterations')\n",
    "plt.plot(history1.history['acc'],'g')\n",
    "plt.show()\n",
    "\n",
    "plt.ylabel('Loss')\n",
    "plt.xlabel('Iterations')\n",
    "plt.plot(history1.history['loss'],'r')\n",
    "plt.show()\n",
    "\n",
    "test_loss, test_acc = model.evaluate(xtest,  ytest, verbose=2)\n",
    "print(f'test Accuracy = {test_acc}')\n",
    "print(model.summary())"
   ]
  },
  {
   "cell_type": "markdown",
   "metadata": {
    "colab_type": "text",
    "id": "hFoB8qQM-70P"
   },
   "source": [
    "# MODEL4"
   ]
  },
  {
   "cell_type": "code",
   "execution_count": 0,
   "metadata": {
    "colab": {
     "base_uri": "https://localhost:8080/",
     "height": 1000
    },
    "colab_type": "code",
    "id": "0IbuUbaG-70P",
    "outputId": "fa834a6d-cb0c-47be-c549-fb4ca7eeb03e"
   },
   "outputs": [
    {
     "name": "stdout",
     "output_type": "stream",
     "text": [
      "Train on 39901 samples, validate on 10099 samples\n",
      "Epoch 1/10\n",
      "39901/39901 [==============================] - 5s 123us/sample - loss: 1.6119 - acc: 0.4101 - val_loss: 1.2999 - val_acc: 0.5357\n",
      "Epoch 2/10\n",
      "39901/39901 [==============================] - 5s 119us/sample - loss: 1.2213 - acc: 0.5617 - val_loss: 1.1142 - val_acc: 0.6122\n",
      "Epoch 3/10\n",
      "39901/39901 [==============================] - 5s 118us/sample - loss: 1.0518 - acc: 0.6296 - val_loss: 1.0969 - val_acc: 0.6134\n",
      "Epoch 4/10\n",
      "39901/39901 [==============================] - 5s 120us/sample - loss: 0.9387 - acc: 0.6700 - val_loss: 0.9720 - val_acc: 0.6606\n",
      "Epoch 5/10\n",
      "39901/39901 [==============================] - 5s 119us/sample - loss: 0.8522 - acc: 0.7004 - val_loss: 0.9121 - val_acc: 0.6834\n",
      "Epoch 6/10\n",
      "39901/39901 [==============================] - 5s 118us/sample - loss: 0.7859 - acc: 0.7253 - val_loss: 0.8996 - val_acc: 0.6879\n",
      "Epoch 7/10\n",
      "39901/39901 [==============================] - 5s 120us/sample - loss: 0.7260 - acc: 0.7441 - val_loss: 0.8963 - val_acc: 0.6930\n",
      "Epoch 8/10\n",
      "39901/39901 [==============================] - 5s 119us/sample - loss: 0.6758 - acc: 0.7650 - val_loss: 0.8864 - val_acc: 0.7021\n",
      "Epoch 9/10\n",
      "39901/39901 [==============================] - 5s 117us/sample - loss: 0.6285 - acc: 0.7800 - val_loss: 0.9034 - val_acc: 0.7023\n",
      "Epoch 10/10\n",
      "39901/39901 [==============================] - 5s 118us/sample - loss: 0.5890 - acc: 0.7926 - val_loss: 0.8921 - val_acc: 0.7073\n"
     ]
    },
    {
     "data": {
      "image/png": "[encoded data removed]",
      "text/plain": [
       "<Figure size 432x288 with 1 Axes>"
      ]
     },
     "metadata": {
      "tags": []
     },
     "output_type": "display_data"
    },
    {
     "data": {
      "image/png": "[encoded data removed]",
      "text/plain": [
       "<Figure size 432x288 with 1 Axes>"
      ]
     },
     "metadata": {
      "tags": []
     },
     "output_type": "display_data"
    },
    {
     "name": "stdout",
     "output_type": "stream",
     "text": [
      "10000/10000 - 1s - loss: 0.9002 - acc: 0.7035\n",
      "test Accuracy = 0.703499972820282\n",
      "Model: \"sequential_3\"\n",
      "_________________________________________________________________\n",
      "Layer (type)                 Output Shape              Param #   \n",
      "=================================================================\n",
      "conv2d_6 (Conv2D)            (None, 30, 30, 32)        896       \n",
      "_________________________________________________________________\n",
      "max_pooling2d_6 (MaxPooling2 (None, 15, 15, 32)        0         \n",
      "_________________________________________________________________\n",
      "conv2d_7 (Conv2D)            (None, 13, 13, 64)        18496     \n",
      "_________________________________________________________________\n",
      "max_pooling2d_7 (MaxPooling2 (None, 6, 6, 64)          0         \n",
      "_________________________________________________________________\n",
      "conv2d_8 (Conv2D)            (None, 4, 4, 128)         73856     \n",
      "_________________________________________________________________\n",
      "max_pooling2d_8 (MaxPooling2 (None, 2, 2, 128)         0         \n",
      "_________________________________________________________________\n",
      "flatten_3 (Flatten)          (None, 512)               0         \n",
      "_________________________________________________________________\n",
      "dense_6 (Dense)              (None, 64)                32832     \n",
      "_________________________________________________________________\n",
      "dense_7 (Dense)              (None, 10)                650       \n",
      "=================================================================\n",
      "Total params: 126,730\n",
      "Trainable params: 126,730\n",
      "Non-trainable params: 0\n",
      "_________________________________________________________________\n",
      "None\n"
     ]
    }
   ],
   "source": [
    "model = models.Sequential()\n",
    "model.add(layers.Conv2D(32, (3, 3), activation='relu', input_shape=(32, 32, 3)))\n",
    "model.add(layers.MaxPooling2D((2, 2)))\n",
    "model.add(layers.Conv2D(64, (3, 3), activation='relu'))\n",
    "model.add(layers.MaxPooling2D((2, 2)))\n",
    "model.add(layers.Conv2D(128, (3, 3), activation='relu'))\n",
    "model.add(layers.MaxPooling2D((2, 2)))\n",
    "model.add(layers.Flatten());\n",
    "model.add(layers.Dense(64, activation='relu'))\n",
    "model.add(layers.Dense(10, activation='softmax'))\n",
    "\n",
    "\n",
    "model.compile(optimizer='adam',\n",
    "              loss='sparse_categorical_crossentropy',\n",
    "              metrics=['accuracy'])\n",
    "\n",
    "history1 = model.fit(xtrain, ytrain, epochs=10, \n",
    "                    validation_data=(xvalid, yvalid))\n",
    "\n",
    "\n",
    "plt.ylabel('classification accuracy ')\n",
    "plt.xlabel('Iterations')\n",
    "plt.plot(history1.history['acc'],'g')\n",
    "plt.show()\n",
    "\n",
    "plt.ylabel('Loss')\n",
    "plt.xlabel('Iterations')\n",
    "plt.plot(history1.history['loss'],'r')\n",
    "plt.show()\n",
    "\n",
    "test_loss, test_acc = model.evaluate(xtest,  ytest, verbose=2)\n",
    "print(f'test Accuracy = {test_acc}')\n",
    "print(model.summary())"
   ]
  },
  {
   "cell_type": "markdown",
   "metadata": {
    "colab_type": "text",
    "id": "RvtBSiBl-70S"
   },
   "source": [
    "# BEST MODEL FROM THE ABOVE MODELS \n",
    "As we are extracting the features using kernel it's better to have small kernel so filter of size (3,3) is better and in model1, model2, and in model3 underfitting happens because our model is so small. Whereas model4 is better because it's bigger than previous three so **Model4** is best and kernel size is small.\n",
    "\n",
    "# Model 4 fails\n",
    "But model 4 fails because intially the image was \n",
    "**( (32, 32) -> (conv (3,3)-->) -> (15,15) -> ( Maxpool(2,2) -->) -> (7,7) -> (conv(3,3) -->)->(3,3) -> (Maxpool(2,2) -->) -> (1,1) -> (conv(3,3) -->) Error) ** as filter size is more than input size\n",
    "**So as Model4 failures choose model3**\n",
    "So we are selecting the next best Model which is **MODEL3**"
   ]
  },
  {
   "cell_type": "markdown",
   "metadata": {
    "colab_type": "text",
    "id": "vSiPOwOO-70T"
   },
   "source": [
    "# MODEL 5 using model3"
   ]
  },
  {
   "cell_type": "code",
   "execution_count": 0,
   "metadata": {
    "colab": {
     "base_uri": "https://localhost:8080/",
     "height": 1000
    },
    "colab_type": "code",
    "id": "gVXkUkla-70T",
    "outputId": "98622d87-b860-40a1-cf01-23fb9967604d"
   },
   "outputs": [
    {
     "name": "stdout",
     "output_type": "stream",
     "text": [
      "Train on 39901 samples, validate on 10099 samples\n",
      "Epoch 1/10\n",
      "39901/39901 [==============================] - 4s 107us/sample - loss: 1.8986 - acc: 0.2870 - val_loss: 1.7551 - val_acc: 0.3567\n",
      "Epoch 2/10\n",
      "39901/39901 [==============================] - 4s 102us/sample - loss: 1.6698 - acc: 0.3856 - val_loss: 1.6242 - val_acc: 0.4176\n",
      "Epoch 3/10\n",
      "39901/39901 [==============================] - 4s 103us/sample - loss: 1.5741 - acc: 0.4265 - val_loss: 1.5573 - val_acc: 0.4364\n",
      "Epoch 4/10\n",
      "39901/39901 [==============================] - 4s 102us/sample - loss: 1.5041 - acc: 0.4560 - val_loss: 1.5138 - val_acc: 0.4567\n",
      "Epoch 5/10\n",
      "39901/39901 [==============================] - 4s 101us/sample - loss: 1.4591 - acc: 0.4714 - val_loss: 1.4682 - val_acc: 0.4734\n",
      "Epoch 6/10\n",
      "39901/39901 [==============================] - 4s 102us/sample - loss: 1.4179 - acc: 0.4910 - val_loss: 1.4401 - val_acc: 0.4858\n",
      "Epoch 7/10\n",
      "39901/39901 [==============================] - 4s 102us/sample - loss: 1.3856 - acc: 0.5041 - val_loss: 1.4156 - val_acc: 0.4953\n",
      "Epoch 8/10\n",
      "39901/39901 [==============================] - 4s 103us/sample - loss: 1.3571 - acc: 0.5133 - val_loss: 1.3955 - val_acc: 0.5035\n",
      "Epoch 9/10\n",
      "39901/39901 [==============================] - 4s 102us/sample - loss: 1.3348 - acc: 0.5244 - val_loss: 1.4248 - val_acc: 0.4910\n",
      "Epoch 10/10\n",
      "39901/39901 [==============================] - 4s 103us/sample - loss: 1.3094 - acc: 0.5329 - val_loss: 1.3994 - val_acc: 0.5125\n"
     ]
    },
    {
     "data": {
      "image/png": "[encoded data removed]",
      "text/plain": [
       "<Figure size 432x288 with 1 Axes>"
      ]
     },
     "metadata": {
      "tags": []
     },
     "output_type": "display_data"
    },
    {
     "data": {
      "image/png": "[encoded data removed]",
      "text/plain": [
       "<Figure size 432x288 with 1 Axes>"
      ]
     },
     "metadata": {
      "tags": []
     },
     "output_type": "display_data"
    },
    {
     "name": "stdout",
     "output_type": "stream",
     "text": [
      "10000/10000 - 1s - loss: 1.4038 - acc: 0.5095\n",
      "test Accuracy = 0.5095000267028809\n",
      "Model: \"sequential_4\"\n",
      "_________________________________________________________________\n",
      "Layer (type)                 Output Shape              Param #   \n",
      "=================================================================\n",
      "conv2d_9 (Conv2D)            (None, 15, 15, 32)        896       \n",
      "_________________________________________________________________\n",
      "max_pooling2d_9 (MaxPooling2 (None, 7, 7, 32)          0         \n",
      "_________________________________________________________________\n",
      "conv2d_10 (Conv2D)           (None, 3, 3, 64)          18496     \n",
      "_________________________________________________________________\n",
      "max_pooling2d_10 (MaxPooling (None, 1, 1, 64)          0         \n",
      "_________________________________________________________________\n",
      "flatten_4 (Flatten)          (None, 64)                0         \n",
      "_________________________________________________________________\n",
      "dense_8 (Dense)              (None, 64)                4160      \n",
      "_________________________________________________________________\n",
      "dense_9 (Dense)              (None, 10)                650       \n",
      "=================================================================\n",
      "Total params: 24,202\n",
      "Trainable params: 24,202\n",
      "Non-trainable params: 0\n",
      "_________________________________________________________________\n",
      "None\n"
     ]
    }
   ],
   "source": [
    "model = models.Sequential()\n",
    "model.add(layers.Conv2D(32, (3, 3), activation='relu', strides = 2, input_shape=(32, 32, 3)))\n",
    "model.add(layers.MaxPooling2D((2, 2)))\n",
    "model.add(layers.Conv2D(64, (3, 3), activation='relu', strides = 2))\n",
    "model.add(layers.MaxPooling2D((2, 2)))\n",
    "model.add(layers.Flatten());\n",
    "model.add(layers.Dense(64, activation='relu'))\n",
    "model.add(layers.Dense(10, activation='softmax'))\n",
    "\n",
    "\n",
    "model.compile(optimizer='adam',\n",
    "              loss='sparse_categorical_crossentropy',\n",
    "              metrics=['accuracy'])\n",
    "\n",
    "history1 = model.fit(xtrain, ytrain, epochs=10, \n",
    "                    validation_data=(xvalid, yvalid))\n",
    "\n",
    "\n",
    "plt.ylabel('classification accuracy ')\n",
    "plt.xlabel('Iterations')\n",
    "plt.plot(history1.history['acc'],'g')\n",
    "plt.show()\n",
    "\n",
    "plt.ylabel('Loss')\n",
    "plt.xlabel('Iterations')\n",
    "plt.plot(history1.history['loss'],'r')\n",
    "plt.show()\n",
    "\n",
    "test_loss, test_acc = model.evaluate(xtest,  ytest, verbose=2)\n",
    "print(f'test Accuracy = {test_acc}')\n",
    "print(model.summary())"
   ]
  },
  {
   "cell_type": "markdown",
   "metadata": {
    "colab_type": "text",
    "id": "ufD-d6Oj-70W"
   },
   "source": [
    "**So still Model4 is better we will choose model4**"
   ]
  },
  {
   "cell_type": "markdown",
   "metadata": {
    "colab_type": "text",
    "id": "33qHlwmG-70W"
   },
   "source": [
    "# MODEL 6 usign Model 4"
   ]
  },
  {
   "cell_type": "code",
   "execution_count": 0,
   "metadata": {
    "colab": {
     "base_uri": "https://localhost:8080/",
     "height": 1000
    },
    "colab_type": "code",
    "id": "lYSYm-J2-70Y",
    "outputId": "a2468b21-a3ee-4a96-fdfe-f3e19f638115"
   },
   "outputs": [
    {
     "name": "stdout",
     "output_type": "stream",
     "text": [
      "Train on 39901 samples, validate on 10099 samples\n",
      "Epoch 1/10\n",
      "39901/39901 [==============================] - 5s 130us/sample - loss: 1.4801 - acc: 0.4654 - val_loss: 1.1351 - val_acc: 0.5972\n",
      "Epoch 2/10\n",
      "39901/39901 [==============================] - 5s 123us/sample - loss: 1.0479 - acc: 0.6291 - val_loss: 1.0011 - val_acc: 0.6507\n",
      "Epoch 3/10\n",
      "39901/39901 [==============================] - 5s 122us/sample - loss: 0.8819 - acc: 0.6912 - val_loss: 0.8664 - val_acc: 0.6981\n",
      "Epoch 4/10\n",
      "39901/39901 [==============================] - 5s 122us/sample - loss: 0.7714 - acc: 0.7309 - val_loss: 0.8551 - val_acc: 0.7072\n",
      "Epoch 5/10\n",
      "39901/39901 [==============================] - 5s 123us/sample - loss: 0.6769 - acc: 0.7635 - val_loss: 0.8570 - val_acc: 0.7154\n",
      "Epoch 6/10\n",
      "39901/39901 [==============================] - 5s 121us/sample - loss: 0.6058 - acc: 0.7882 - val_loss: 0.8329 - val_acc: 0.7235\n",
      "Epoch 7/10\n",
      "39901/39901 [==============================] - 5s 124us/sample - loss: 0.5396 - acc: 0.8101 - val_loss: 0.8555 - val_acc: 0.7223\n",
      "Epoch 8/10\n",
      "39901/39901 [==============================] - 5s 123us/sample - loss: 0.4759 - acc: 0.8323 - val_loss: 0.8404 - val_acc: 0.7411\n",
      "Epoch 9/10\n",
      "39901/39901 [==============================] - 5s 123us/sample - loss: 0.4188 - acc: 0.8495 - val_loss: 0.8825 - val_acc: 0.7336\n",
      "Epoch 10/10\n",
      "39901/39901 [==============================] - 5s 122us/sample - loss: 0.3709 - acc: 0.8691 - val_loss: 0.9228 - val_acc: 0.7351\n"
     ]
    },
    {
     "data": {
      "image/png": "[encoded data removed]",
      "text/plain": [
       "<Figure size 432x288 with 1 Axes>"
      ]
     },
     "metadata": {
      "tags": []
     },
     "output_type": "display_data"
    },
    {
     "data": {
      "image/png": "[encoded data removed]",
      "text/plain": [
       "<Figure size 432x288 with 1 Axes>"
      ]
     },
     "metadata": {
      "tags": []
     },
     "output_type": "display_data"
    },
    {
     "name": "stdout",
     "output_type": "stream",
     "text": [
      "10000/10000 - 1s - loss: 0.9362 - acc: 0.7291\n",
      "test Accuracy = 0.7290999889373779\n",
      "Model: \"sequential_5\"\n",
      "_________________________________________________________________\n",
      "Layer (type)                 Output Shape              Param #   \n",
      "=================================================================\n",
      "conv2d_11 (Conv2D)           (None, 32, 32, 32)        896       \n",
      "_________________________________________________________________\n",
      "max_pooling2d_11 (MaxPooling (None, 16, 16, 32)        0         \n",
      "_________________________________________________________________\n",
      "conv2d_12 (Conv2D)           (None, 16, 16, 64)        18496     \n",
      "_________________________________________________________________\n",
      "max_pooling2d_12 (MaxPooling (None, 8, 8, 64)          0         \n",
      "_________________________________________________________________\n",
      "conv2d_13 (Conv2D)           (None, 8, 8, 128)         73856     \n",
      "_________________________________________________________________\n",
      "max_pooling2d_13 (MaxPooling (None, 4, 4, 128)         0         \n",
      "_________________________________________________________________\n",
      "flatten_5 (Flatten)          (None, 2048)              0         \n",
      "_________________________________________________________________\n",
      "dense_10 (Dense)             (None, 64)                131136    \n",
      "_________________________________________________________________\n",
      "dense_11 (Dense)             (None, 10)                650       \n",
      "=================================================================\n",
      "Total params: 225,034\n",
      "Trainable params: 225,034\n",
      "Non-trainable params: 0\n",
      "_________________________________________________________________\n",
      "None\n"
     ]
    }
   ],
   "source": [
    "model = models.Sequential()\n",
    "model.add(layers.Conv2D(32, (3, 3), activation='relu', padding ='SAME', input_shape=(32, 32, 3)))\n",
    "model.add(layers.MaxPooling2D((2, 2)))\n",
    "model.add(layers.Conv2D(64, (3, 3), activation='relu', padding ='SAME'))\n",
    "model.add(layers.MaxPooling2D((2, 2)))\n",
    "model.add(layers.Conv2D(128, (3, 3), activation='relu', padding ='SAME'))\n",
    "model.add(layers.MaxPooling2D((2, 2)))\n",
    "model.add(layers.Flatten());\n",
    "model.add(layers.Dense(64, activation='relu'))\n",
    "model.add(layers.Dense(10, activation='softmax'))\n",
    "\n",
    "\n",
    "model.compile(optimizer='adam',\n",
    "              loss='sparse_categorical_crossentropy',\n",
    "              metrics=['accuracy'])\n",
    "\n",
    "history1 = model.fit(xtrain, ytrain, epochs=10, \n",
    "                    validation_data=(xvalid, yvalid))\n",
    "\n",
    "\n",
    "plt.ylabel('classification accuracy ')\n",
    "plt.xlabel('Iterations')\n",
    "plt.plot(history1.history['acc'],'g')\n",
    "plt.show()\n",
    "\n",
    "plt.ylabel('Loss')\n",
    "plt.xlabel('Iterations')\n",
    "plt.plot(history1.history['loss'],'r')\n",
    "plt.show()\n",
    "\n",
    "test_loss, test_acc = model.evaluate(xtest,  ytest, verbose=2)\n",
    "print(f'test Accuracy = {test_acc}')\n",
    "print(model.summary())"
   ]
  },
  {
   "cell_type": "markdown",
   "metadata": {
    "colab_type": "text",
    "id": "TH1leC1s-70b"
   },
   "source": [
    "# MODEL 7 Using Model 3"
   ]
  },
  {
   "cell_type": "markdown",
   "metadata": {
    "colab_type": "text",
    "id": "TS_igfqS-70b"
   },
   "source": [
    "**In MODEL4 when we try to apply the 3rd convolutional layer the input size becomes smaller than filter size**"
   ]
  },
  {
   "cell_type": "code",
   "execution_count": 0,
   "metadata": {
    "colab": {
     "base_uri": "https://localhost:8080/",
     "height": 1000
    },
    "colab_type": "code",
    "id": "UC6BEQzl-70c",
    "outputId": "7efe8b68-4236-4d8d-9192-85ffa5fbbc25"
   },
   "outputs": [
    {
     "name": "stdout",
     "output_type": "stream",
     "text": [
      "Train on 39901 samples, validate on 10099 samples\n",
      "Epoch 1/10\n",
      "39901/39901 [==============================] - 4s 109us/sample - loss: 1.6869 - acc: 0.3793 - val_loss: 1.4389 - val_acc: 0.4747\n",
      "Epoch 2/10\n",
      "39901/39901 [==============================] - 4s 104us/sample - loss: 1.3695 - acc: 0.5060 - val_loss: 1.2901 - val_acc: 0.5342\n",
      "Epoch 3/10\n",
      "39901/39901 [==============================] - 4s 108us/sample - loss: 1.2526 - acc: 0.5495 - val_loss: 1.2071 - val_acc: 0.5641\n",
      "Epoch 4/10\n",
      "39901/39901 [==============================] - 4s 105us/sample - loss: 1.1761 - acc: 0.5791 - val_loss: 1.1829 - val_acc: 0.5812\n",
      "Epoch 5/10\n",
      "39901/39901 [==============================] - 4s 104us/sample - loss: 1.1147 - acc: 0.6004 - val_loss: 1.1229 - val_acc: 0.6061\n",
      "Epoch 6/10\n",
      "39901/39901 [==============================] - 4s 104us/sample - loss: 1.0651 - acc: 0.6200 - val_loss: 1.1480 - val_acc: 0.5931\n",
      "Epoch 7/10\n",
      "39901/39901 [==============================] - 4s 104us/sample - loss: 1.0255 - acc: 0.6355 - val_loss: 1.0776 - val_acc: 0.6178\n",
      "Epoch 8/10\n",
      "39901/39901 [==============================] - 4s 104us/sample - loss: 0.9879 - acc: 0.6494 - val_loss: 1.0724 - val_acc: 0.6268\n",
      "Epoch 9/10\n",
      "39901/39901 [==============================] - 4s 105us/sample - loss: 0.9598 - acc: 0.6593 - val_loss: 1.0708 - val_acc: 0.6258\n",
      "Epoch 10/10\n",
      "39901/39901 [==============================] - 4s 105us/sample - loss: 0.9276 - acc: 0.6690 - val_loss: 1.0448 - val_acc: 0.6350\n"
     ]
    },
    {
     "data": {
      "image/png": "[encoded data removed]",
      "text/plain": [
       "<Figure size 432x288 with 1 Axes>"
      ]
     },
     "metadata": {
      "tags": []
     },
     "output_type": "display_data"
    },
    {
     "data": {
      "image/png": "[encoded data removed]",
      "text/plain": [
       "<Figure size 432x288 with 1 Axes>"
      ]
     },
     "metadata": {
      "tags": []
     },
     "output_type": "display_data"
    },
    {
     "name": "stdout",
     "output_type": "stream",
     "text": [
      "10000/10000 - 1s - loss: 1.0459 - acc: 0.6390\n",
      "test Accuracy = 0.6389999985694885\n",
      "Model: \"sequential_6\"\n",
      "_________________________________________________________________\n",
      "Layer (type)                 Output Shape              Param #   \n",
      "=================================================================\n",
      "conv2d_14 (Conv2D)           (None, 16, 16, 32)        896       \n",
      "_________________________________________________________________\n",
      "max_pooling2d_14 (MaxPooling (None, 8, 8, 32)          0         \n",
      "_________________________________________________________________\n",
      "conv2d_15 (Conv2D)           (None, 4, 4, 64)          18496     \n",
      "_________________________________________________________________\n",
      "max_pooling2d_15 (MaxPooling (None, 2, 2, 64)          0         \n",
      "_________________________________________________________________\n",
      "flatten_6 (Flatten)          (None, 256)               0         \n",
      "_________________________________________________________________\n",
      "dense_12 (Dense)             (None, 64)                16448     \n",
      "_________________________________________________________________\n",
      "dense_13 (Dense)             (None, 10)                650       \n",
      "=================================================================\n",
      "Total params: 36,490\n",
      "Trainable params: 36,490\n",
      "Non-trainable params: 0\n",
      "_________________________________________________________________\n",
      "None\n"
     ]
    }
   ],
   "source": [
    "model = models.Sequential()\n",
    "model.add(layers.Conv2D(32, (3, 3), activation='relu', strides = 2, padding ='SAME', input_shape=(32, 32, 3)))\n",
    "model.add(layers.MaxPooling2D((2, 2)))\n",
    "model.add(layers.Conv2D(64, (3, 3), activation='relu', strides = 2, padding ='SAME'))\n",
    "model.add(layers.MaxPooling2D((2, 2)))\n",
    "model.add(layers.Flatten());\n",
    "model.add(layers.Dense(64, activation='relu'))\n",
    "model.add(layers.Dense(10, activation='softmax'))\n",
    "\n",
    "\n",
    "model.compile(optimizer='adam',\n",
    "              loss='sparse_categorical_crossentropy',\n",
    "              metrics=['accuracy'])\n",
    "\n",
    "history1 = model.fit(xtrain, ytrain, epochs=10, \n",
    "                    validation_data=(xvalid, yvalid))\n",
    "\n",
    "\n",
    "plt.ylabel('classification accuracy ')\n",
    "plt.xlabel('Iterations')\n",
    "plt.plot(history1.history['acc'],'g')\n",
    "plt.show()\n",
    "\n",
    "plt.ylabel('Loss')\n",
    "plt.xlabel('Iterations')\n",
    "plt.plot(history1.history['loss'],'r')\n",
    "plt.show()\n",
    "\n",
    "test_loss, test_acc = model.evaluate(xtest,  ytest, verbose=2)\n",
    "print(f'test Accuracy = {test_acc}')\n",
    "print(model.summary())"
   ]
  },
  {
   "cell_type": "markdown",
   "metadata": {
    "colab_type": "text",
    "id": "QeTJkSsq-70g"
   },
   "source": [
    "**MODEL 6 is better** because it has 3 convolutional networks and padding same is there and stride is 1 and fileter size is (3,3) and max pooling is (2,2) and it's better whereas in remaining models in some underfitting happens and whereas in model 1 and model 2 the the filter size is (5, 5) and considering overall and **model 6 performance better on test data so it is better.**"
   ]
  },
  {
   "cell_type": "markdown",
   "metadata": {
    "colab_type": "text",
    "id": "fSyYa7QT-70h"
   },
   "source": [
    "# MODEL 8 using model 6"
   ]
  },
  {
   "cell_type": "code",
   "execution_count": 0,
   "metadata": {
    "colab": {
     "base_uri": "https://localhost:8080/",
     "height": 1000
    },
    "colab_type": "code",
    "id": "U97nEskS-70h",
    "outputId": "ba048001-edf1-4e2b-d90c-03083eb06868"
   },
   "outputs": [
    {
     "name": "stdout",
     "output_type": "stream",
     "text": [
      "Train on 39901 samples, validate on 10099 samples\n",
      "Epoch 1/10\n",
      "39901/39901 [==============================] - 5s 131us/sample - loss: 1.3293 - acc: 0.5232 - val_loss: 1.0893 - val_acc: 0.6153\n",
      "Epoch 2/10\n",
      "39901/39901 [==============================] - 5s 124us/sample - loss: 0.9801 - acc: 0.6556 - val_loss: 0.9290 - val_acc: 0.6772\n",
      "Epoch 3/10\n",
      "39901/39901 [==============================] - 5s 125us/sample - loss: 0.8304 - acc: 0.7100 - val_loss: 0.9180 - val_acc: 0.6859\n",
      "Epoch 4/10\n",
      "39901/39901 [==============================] - 5s 124us/sample - loss: 0.7142 - acc: 0.7532 - val_loss: 0.8894 - val_acc: 0.6985\n",
      "Epoch 5/10\n",
      "39901/39901 [==============================] - 5s 125us/sample - loss: 0.6079 - acc: 0.7916 - val_loss: 0.9022 - val_acc: 0.6990\n",
      "Epoch 6/10\n",
      "39901/39901 [==============================] - 5s 124us/sample - loss: 0.5210 - acc: 0.8219 - val_loss: 0.9444 - val_acc: 0.6978\n",
      "Epoch 7/10\n",
      "39901/39901 [==============================] - 5s 125us/sample - loss: 0.4462 - acc: 0.8477 - val_loss: 0.9981 - val_acc: 0.6848\n",
      "Epoch 8/10\n",
      "39901/39901 [==============================] - 5s 125us/sample - loss: 0.3760 - acc: 0.8724 - val_loss: 1.0195 - val_acc: 0.6885\n",
      "Epoch 9/10\n",
      "39901/39901 [==============================] - 5s 126us/sample - loss: 0.3232 - acc: 0.8904 - val_loss: 1.0624 - val_acc: 0.6881\n",
      "Epoch 10/10\n",
      "39901/39901 [==============================] - 5s 127us/sample - loss: 0.2764 - acc: 0.9069 - val_loss: 1.0833 - val_acc: 0.6898\n"
     ]
    },
    {
     "data": {
      "image/png": "[encoded data removed]",
      "text/plain": [
       "<Figure size 432x288 with 1 Axes>"
      ]
     },
     "metadata": {
      "tags": []
     },
     "output_type": "display_data"
    },
    {
     "data": {
      "image/png": "[encoded data removed]",
      "text/plain": [
       "<Figure size 432x288 with 1 Axes>"
      ]
     },
     "metadata": {
      "tags": []
     },
     "output_type": "display_data"
    },
    {
     "name": "stdout",
     "output_type": "stream",
     "text": [
      "10000/10000 - 1s - loss: 1.1156 - acc: 0.6795\n",
      "test Accuracy = 0.6794999837875366\n",
      "Model: \"sequential_7\"\n",
      "_________________________________________________________________\n",
      "Layer (type)                 Output Shape              Param #   \n",
      "=================================================================\n",
      "conv2d_16 (Conv2D)           (None, 32, 32, 32)        896       \n",
      "_________________________________________________________________\n",
      "max_pooling2d_16 (MaxPooling (None, 16, 16, 32)        0         \n",
      "_________________________________________________________________\n",
      "conv2d_17 (Conv2D)           (None, 16, 16, 64)        18496     \n",
      "_________________________________________________________________\n",
      "max_pooling2d_17 (MaxPooling (None, 8, 8, 64)          0         \n",
      "_________________________________________________________________\n",
      "conv2d_18 (Conv2D)           (None, 8, 8, 128)         73856     \n",
      "_________________________________________________________________\n",
      "max_pooling2d_18 (MaxPooling (None, 4, 4, 128)         0         \n",
      "_________________________________________________________________\n",
      "flatten_7 (Flatten)          (None, 2048)              0         \n",
      "_________________________________________________________________\n",
      "dense_14 (Dense)             (None, 64)                131136    \n",
      "_________________________________________________________________\n",
      "dense_15 (Dense)             (None, 10)                650       \n",
      "=================================================================\n",
      "Total params: 225,034\n",
      "Trainable params: 225,034\n",
      "Non-trainable params: 0\n",
      "_________________________________________________________________\n",
      "None\n"
     ]
    }
   ],
   "source": [
    "model = models.Sequential()\n",
    "model.add(layers.Conv2D(32, (3, 3), activation='tanh', padding ='SAME', input_shape=(32, 32, 3)))\n",
    "model.add(layers.MaxPooling2D((2, 2)))\n",
    "model.add(layers.Conv2D(64, (3, 3), activation='tanh', padding ='SAME'))\n",
    "model.add(layers.MaxPooling2D((2, 2)))\n",
    "model.add(layers.Conv2D(128, (3, 3), activation='tanh', padding ='SAME'))\n",
    "model.add(layers.MaxPooling2D((2, 2)))\n",
    "model.add(layers.Flatten());\n",
    "model.add(layers.Dense(64, activation='tanh'))\n",
    "model.add(layers.Dense(10, activation='softmax'))\n",
    "\n",
    "\n",
    "model.compile(optimizer='adam',\n",
    "              loss='sparse_categorical_crossentropy',\n",
    "              metrics=['accuracy'])\n",
    "\n",
    "history1 = model.fit(xtrain, ytrain, epochs=10, \n",
    "                    validation_data=(xvalid, yvalid))\n",
    "\n",
    "\n",
    "plt.ylabel('classification accuracy ')\n",
    "plt.xlabel('Iterations')\n",
    "plt.plot(history1.history['acc'],'g')\n",
    "plt.show()\n",
    "\n",
    "plt.ylabel('Loss')\n",
    "plt.xlabel('Iterations')\n",
    "plt.plot(history1.history['loss'],'r')\n",
    "plt.show()\n",
    "\n",
    "test_loss, test_acc = model.evaluate(xtest,  ytest, verbose=2)\n",
    "print(f'test Accuracy = {test_acc}')\n",
    "print(model.summary())"
   ]
  },
  {
   "cell_type": "markdown",
   "metadata": {
    "colab_type": "text",
    "id": "Nruql8pJ-70k"
   },
   "source": [
    "# MODEL 9 Model 6"
   ]
  },
  {
   "cell_type": "code",
   "execution_count": 0,
   "metadata": {
    "colab": {
     "base_uri": "https://localhost:8080/",
     "height": 1000
    },
    "colab_type": "code",
    "id": "rnpGtH4J-70l",
    "outputId": "56998135-23e8-40c2-afac-8c139ace8881"
   },
   "outputs": [
    {
     "name": "stdout",
     "output_type": "stream",
     "text": [
      "Train on 39901 samples, validate on 10099 samples\n",
      "Epoch 1/10\n",
      "39901/39901 [==============================] - 5s 133us/sample - loss: 2.3076 - acc: 0.0995 - val_loss: 2.3049 - val_acc: 0.1026\n",
      "Epoch 2/10\n",
      "39901/39901 [==============================] - 5s 127us/sample - loss: 1.9090 - acc: 0.2997 - val_loss: 1.6497 - val_acc: 0.4094\n",
      "Epoch 3/10\n",
      "39901/39901 [==============================] - 5s 128us/sample - loss: 1.5504 - acc: 0.4436 - val_loss: 1.4750 - val_acc: 0.4723\n",
      "Epoch 4/10\n",
      "39901/39901 [==============================] - 5s 127us/sample - loss: 1.4181 - acc: 0.4927 - val_loss: 1.4014 - val_acc: 0.5054\n",
      "Epoch 5/10\n",
      "39901/39901 [==============================] - 5s 128us/sample - loss: 1.3330 - acc: 0.5270 - val_loss: 1.3287 - val_acc: 0.5242\n",
      "Epoch 6/10\n",
      "39901/39901 [==============================] - 5s 126us/sample - loss: 1.2653 - acc: 0.5485 - val_loss: 1.2720 - val_acc: 0.5498\n",
      "Epoch 7/10\n",
      "39901/39901 [==============================] - 5s 127us/sample - loss: 1.1954 - acc: 0.5750 - val_loss: 1.2406 - val_acc: 0.5633\n",
      "Epoch 8/10\n",
      "39901/39901 [==============================] - 5s 126us/sample - loss: 1.1342 - acc: 0.5958 - val_loss: 1.2143 - val_acc: 0.5652\n",
      "Epoch 9/10\n",
      "39901/39901 [==============================] - 5s 128us/sample - loss: 1.0804 - acc: 0.6178 - val_loss: 1.1604 - val_acc: 0.5883\n",
      "Epoch 10/10\n",
      "39901/39901 [==============================] - 5s 132us/sample - loss: 1.0195 - acc: 0.6410 - val_loss: 1.1549 - val_acc: 0.5897\n"
     ]
    },
    {
     "data": {
      "image/png": "[encoded data removed]",
      "text/plain": [
       "<Figure size 432x288 with 1 Axes>"
      ]
     },
     "metadata": {
      "tags": []
     },
     "output_type": "display_data"
    },
    {
     "data": {
      "image/png": "[encoded data removed]",
      "text/plain": [
       "<Figure size 432x288 with 1 Axes>"
      ]
     },
     "metadata": {
      "tags": []
     },
     "output_type": "display_data"
    },
    {
     "name": "stdout",
     "output_type": "stream",
     "text": [
      "10000/10000 - 1s - loss: 1.1629 - acc: 0.5897\n",
      "test Accuracy = 0.5896999835968018\n",
      "Model: \"sequential_8\"\n",
      "_________________________________________________________________\n",
      "Layer (type)                 Output Shape              Param #   \n",
      "=================================================================\n",
      "conv2d_19 (Conv2D)           (None, 32, 32, 32)        896       \n",
      "_________________________________________________________________\n",
      "max_pooling2d_19 (MaxPooling (None, 16, 16, 32)        0         \n",
      "_________________________________________________________________\n",
      "conv2d_20 (Conv2D)           (None, 16, 16, 64)        18496     \n",
      "_________________________________________________________________\n",
      "max_pooling2d_20 (MaxPooling (None, 8, 8, 64)          0         \n",
      "_________________________________________________________________\n",
      "conv2d_21 (Conv2D)           (None, 8, 8, 128)         73856     \n",
      "_________________________________________________________________\n",
      "max_pooling2d_21 (MaxPooling (None, 4, 4, 128)         0         \n",
      "_________________________________________________________________\n",
      "flatten_8 (Flatten)          (None, 2048)              0         \n",
      "_________________________________________________________________\n",
      "dense_16 (Dense)             (None, 64)                131136    \n",
      "_________________________________________________________________\n",
      "dense_17 (Dense)             (None, 10)                650       \n",
      "=================================================================\n",
      "Total params: 225,034\n",
      "Trainable params: 225,034\n",
      "Non-trainable params: 0\n",
      "_________________________________________________________________\n",
      "None\n"
     ]
    }
   ],
   "source": [
    "model = models.Sequential()\n",
    "model.add(layers.Conv2D(32, (3, 3), activation='sigmoid', padding ='SAME', input_shape=(32, 32, 3)))\n",
    "model.add(layers.MaxPooling2D((2, 2)))\n",
    "model.add(layers.Conv2D(64, (3, 3), activation='sigmoid', padding ='SAME'))\n",
    "model.add(layers.MaxPooling2D((2, 2)))\n",
    "model.add(layers.Conv2D(128, (3, 3), activation='sigmoid', padding ='SAME'))\n",
    "model.add(layers.MaxPooling2D((2, 2)))\n",
    "model.add(layers.Flatten());\n",
    "model.add(layers.Dense(64, activation='sigmoid'))\n",
    "model.add(layers.Dense(10, activation='softmax'))\n",
    "\n",
    "\n",
    "model.compile(optimizer='adam',\n",
    "              loss='sparse_categorical_crossentropy',\n",
    "              metrics=['accuracy'])\n",
    "\n",
    "history1 = model.fit(xtrain, ytrain, epochs=10, \n",
    "                    validation_data=(xvalid, yvalid))\n",
    "\n",
    "\n",
    "plt.ylabel('classification accuracy ')\n",
    "plt.xlabel('Iterations')\n",
    "plt.plot(history1.history['acc'],'g')\n",
    "plt.show()\n",
    "\n",
    "plt.ylabel('Loss')\n",
    "plt.xlabel('Iterations')\n",
    "plt.plot(history1.history['loss'],'r')\n",
    "plt.show()\n",
    "\n",
    "test_loss, test_acc = model.evaluate(xtest,  ytest, verbose=2)\n",
    "print(f'test Accuracy = {test_acc}')\n",
    "print(model.summary())"
   ]
  },
  {
   "cell_type": "markdown",
   "metadata": {
    "colab_type": "text",
    "id": "ANfHDRjN-70p"
   },
   "source": [
    "# Table for all models\n",
    "    "
   ]
  },
  {
   "cell_type": "code",
   "execution_count": 39,
   "metadata": {
    "colab": {
     "base_uri": "https://localhost:8080/",
     "height": 256
    },
    "colab_type": "code",
    "id": "eLeg8tEd-70q",
    "outputId": "e856ba28-6716-4da4-8607-356025e56c40"
   },
   "outputs": [
    {
     "data": {
      "text/html": [
       "<table>\n",
       "<tbody>\n",
       "<tr><td><h4>      S.NO      <h4></td><td><h4>   Trainable Parameters    <h4></td><td><h4>   Training Time(sec)   <h4></td><td><h4>   Training Accuracy     <h4></td><td><h4>   Validation Accuracy    <h4></td><td><h4>   Test Accuracy     <h4></td></tr>\n",
       "<tr><td>MODEL1 --               </td><td>156810                             </td><td>52                              </td><td>78.14                            </td><td>66.88                             </td><td>66.0                         </td></tr>\n",
       "<tr><td>MODEL2 --               </td><td>58506                              </td><td>40                              </td><td>66.11                            </td><td>61.07                             </td><td>60.78                        </td></tr>\n",
       "<tr><td>MODEL3 --               </td><td>167562                             </td><td>42                              </td><td>79.98                            </td><td>69.91                             </td><td>69.47                        </td></tr>\n",
       "<tr><td>MODEL4 --               </td><td>126730                             </td><td>50                              </td><td>79.26                            </td><td>70.73                             </td><td>70.34                        </td></tr>\n",
       "<tr><td>MODEL5 --               </td><td>24202                              </td><td>40                              </td><td>53.29                            </td><td>51.25                             </td><td>50.95                        </td></tr>\n",
       "<tr><td>MODEL6 --               </td><td>225034                             </td><td>50                              </td><td>86.91                            </td><td>73.51                             </td><td>72.9                         </td></tr>\n",
       "<tr><td>MODEL7 --               </td><td>36490                              </td><td>40                              </td><td>66.9                             </td><td>63.5                              </td><td>63.89                        </td></tr>\n",
       "<tr><td>MODEL8 --               </td><td>225034                             </td><td>50                              </td><td>90.69                            </td><td>68.98                             </td><td>67.94                        </td></tr>\n",
       "<tr><td>MODEL9 --               </td><td>225034                             </td><td>50                              </td><td>64.1                             </td><td>58.97                             </td><td>58.96                        </td></tr>\n",
       "</tbody>\n",
       "</table>"
      ],
      "text/plain": [
       "<IPython.core.display.HTML object>"
      ]
     },
     "metadata": {
      "tags": []
     },
     "output_type": "display_data"
    }
   ],
   "source": [
    "from IPython.display import HTML, display\n",
    "import tabulate\n",
    "table = [ [] for i in range(10)]\n",
    "table[0] = [\"   S.NO   \", \"Trainable Parameters \",\"Training Time(sec)\", \"Training Accuracy  \", \"Validation Accuracy \",\"Test Accuracy  \"]\n",
    "for i in range(6):\n",
    "  table[0][i] = \"   <h4>   \"+table[0][i]+\"   <h4>   \"\n",
    "\n",
    "\n",
    "table[1] = [\"MODEL1 -- \",156810,52, 78.14, 66.88, 66.00 ]\n",
    "table[2] = [\"MODEL2 -- \",58506,40, 66.11, 61.07, 60.78 ]\n",
    "table[3] = [\"MODEL3 -- \", 167562, 42, 79.98, 69.91,  69.47]\n",
    "table[4] = [\"MODEL4 -- \",126730, 50, 79.26, 70.73,  70.34]\n",
    "table[5] = [\"MODEL5 --\",24202, 40, 53.29, 51.25,  50.95]\n",
    "table[6] = [\"MODEL6 --\",225034,50, 86.91, 73.51, 72.90 ]\n",
    "table[7] = [\"MODEL7 --\",36490,40, 66.90, 63.50, 63.89 ]\n",
    "table[8] = [\"MODEL8 --\",225034,50, 90.69, 68.98, 67.94 ]\n",
    "table[9] = [\"MODEL9 --\",225034,50, 64.10, 58.97, 58.96 ]\n",
    "display(HTML(tabulate.tabulate(table, tablefmt='html')))"
   ]
  },
  {
   "cell_type": "markdown",
   "metadata": {
    "colab_type": "text",
    "id": "kQlm_bf8-70o"
   },
   "source": [
    "# Results\n",
    "**So, as model 6 performs better on test data so model 6 is better.**"
   ]
  }
 ],
 "metadata": {
  "accelerator": "GPU",
  "colab": {
   "name": "cifar_classification.ipynb",
   "provenance": []
  },
  "kernelspec": {
   "display_name": "Python 3",
   "language": "python",
   "name": "python3"
  },
  "language_info": {
   "codemirror_mode": {
    "name": "ipython",
    "version": 3
   },
   "file_extension": ".py",
   "mimetype": "text/x-python",
   "name": "python",
   "nbconvert_exporter": "python",
   "pygments_lexer": "ipython3",
   "version": "3.7.1"
  }
 },
 "nbformat": 4,
 "nbformat_minor": 1
}
