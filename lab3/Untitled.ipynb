{
 "cells": [
  {
   "cell_type": "code",
   "execution_count": null,
   "metadata": {},
   "outputs": [],
   "source": [
    "\n",
    "table[1] = [\"MODEL1\",156810,52, 78.14, 66.88, 66.00 ]\n",
    "table[2] = [\"MODEL2\",58506,40, 66.11, 61.07, 60.78 ]\n",
    "table[3] = [\"MODEL3\", 167562, 42, 79.98, 69.91,  69.47]\n",
    "table[4] = [\"MODEL4\",126730, 50, 79.26, 70.73,  70.34]\n",
    "table[5] = [\"MODEL5\",24202, 40, 53.29, 51.25,  50.95]\n",
    "table[6] = [\"MODEL6\",225034,50, 86.91, 73.51, 72.90 ]\n",
    "table[7] = [\"MODEL7\",36,490,40, 66.90, 63.50, 63.89 ]\n",
    "table[8] = [\"MODEL8\",225034,50, 90.69, 68.98, 67.94 ]\n",
    "table[9] = [\"MODEL9\",225034,50, 64.10, 58.97, 58.96 ]"
   ]
  }
 ],
 "metadata": {
  "kernelspec": {
   "display_name": "Python 3",
   "language": "python",
   "name": "python3"
  },
  "language_info": {
   "codemirror_mode": {
    "name": "ipython",
    "version": 3
   },
   "file_extension": ".py",
   "mimetype": "text/x-python",
   "name": "python",
   "nbconvert_exporter": "python",
   "pygments_lexer": "ipython3",
   "version": "3.7.1"
  }
 },
 "nbformat": 4,
 "nbformat_minor": 2
}
