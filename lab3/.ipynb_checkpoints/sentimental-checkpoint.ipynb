{
 "cells": [
  {
   "cell_type": "code",
   "execution_count": 0,
   "metadata": {
    "colab": {},
    "colab_type": "code",
    "id": "LgJRktMtLsK8"
   },
   "outputs": [],
   "source": [
    "import tensorflow as tf\n",
    "from tensorflow.keras import datasets, layers, models\n",
    "from tensorflow import keras\n",
    "from keras.preprocessing.sequence import pad_sequences\n",
    "import re\n",
    "import matplotlib.pyplot as plt\n",
    "import numpy as np\n",
    "from keras.preprocessing.text import one_hot\n",
    "from keras.preprocessing.sequence import pad_sequences\n",
    "from keras.models import Sequential\n",
    "from keras.layers.core import Activation, Dropout, Dense\n",
    "from keras.layers import Flatten, LSTM ,RNN, GRU\n",
    "from keras.layers import GlobalMaxPooling1D\n",
    "from keras.layers.embeddings import Embedding\n",
    "from sklearn.model_selection import train_test_split\n",
    "from keras.preprocessing.text import Tokenizer"
   ]
  },
  {
   "cell_type": "code",
   "execution_count": 0,
   "metadata": {
    "colab": {
     "base_uri": "https://localhost:8080/",
     "height": 34
    },
    "colab_type": "code",
    "id": "z_PUrvGjL9-P",
    "outputId": "84f97a13-1bc4-4fcb-ae91-89bbf2a3a690"
   },
   "outputs": [
    {
     "name": "stdout",
     "output_type": "stream",
     "text": [
      "Mounted at /content/gdrive\n"
     ]
    }
   ],
   "source": [
    "from google.colab import drive\n",
    "drive.mount('/content/gdrive')"
   ]
  },
  {
   "cell_type": "code",
   "execution_count": 0,
   "metadata": {
    "colab": {},
    "colab_type": "code",
    "id": "ruPknhpaMgGR"
   },
   "outputs": [],
   "source": [
    "test = open(\"/content/gdrive/My Drive/test.txt\",'r')\n",
    "train = open(\"/content/gdrive/My Drive/train.txt\",'r')"
   ]
  },
  {
   "cell_type": "code",
   "execution_count": 0,
   "metadata": {
    "colab": {},
    "colab_type": "code",
    "id": "wydAm7h7NYm5"
   },
   "outputs": [],
   "source": [
    "xtest = test.readlines()\n",
    "xtrain = train.readlines()"
   ]
  },
  {
   "cell_type": "code",
   "execution_count": 0,
   "metadata": {
    "colab": {},
    "colab_type": "code",
    "id": "0sG9hQ3jMyr5"
   },
   "outputs": [],
   "source": [
    "def clean_sentence(sentence):\n",
    "  TAG_RE = re.compile(r'<[^>]+>')\n",
    "  sentence = TAG_RE.sub(' ',sentence)\n",
    "  sentence = re.sub('[^a-zA-Z]', ' ', sentence)\n",
    "  sentence = re.sub(r\"\\s+[a-zA-Z]\\s+\", ' ', sentence)\n",
    "  sentence = re.sub(r'\\s+', ' ', sentence)\n",
    "  sentence = sentence.lower()\n",
    "  return sentence"
   ]
  },
  {
   "cell_type": "code",
   "execution_count": 0,
   "metadata": {
    "colab": {
     "base_uri": "https://localhost:8080/",
     "height": 34
    },
    "colab_type": "code",
    "id": "6FcapRBSOKXP",
    "outputId": "77d5bca8-e3d9-42cd-f35a-8f14a489eb18"
   },
   "outputs": [
    {
     "name": "stdout",
     "output_type": "stream",
     "text": [
      "25000 25000\n"
     ]
    }
   ],
   "source": [
    "xtest = [clean_sentence(sen) for sen in xtest]\n",
    "xtrain = [clean_sentence(sen) for sen in xtrain]\n",
    "print(len(xtest),len(xtrain))"
   ]
  },
  {
   "cell_type": "code",
   "execution_count": 0,
   "metadata": {
    "colab": {},
    "colab_type": "code",
    "id": "q5RXX_uaPYJR"
   },
   "outputs": [],
   "source": [
    "target = [1 if i<12500 else 0 for i in range(25000)]\n",
    "target = np.array(target)"
   ]
  },
  {
   "cell_type": "code",
   "execution_count": 0,
   "metadata": {
    "colab": {
     "base_uri": "https://localhost:8080/",
     "height": 54
    },
    "colab_type": "code",
    "id": "VhNHb3a2UP5k",
    "outputId": "29de8dfe-7049-42a2-9326-f69db3daabd3"
   },
   "outputs": [
    {
     "data": {
      "text/plain": [
       "'bromwell high is cartoon comedy it ran at the same time as some other programs about school life such as teachers my years in the teaching profession lead me to believe that bromwell high satire is much closer to reality than is teachers the scramble to survive financially the insightful students who can see right through their pathetic teachers pomp the pettiness of the whole situation all remind me of the schools knew and their students when saw the episode in which student repeatedly tried to burn down the school immediately recalled at high classic line inspector m here to sack one of your teachers student welcome to bromwell high expect that many adults of my age think that bromwell high is far fetched what pity that it isn '"
      ]
     },
     "execution_count": 54,
     "metadata": {
      "tags": []
     },
     "output_type": "execute_result"
    }
   ],
   "source": [
    "xtrain[0]"
   ]
  },
  {
   "cell_type": "code",
   "execution_count": 0,
   "metadata": {
    "colab": {},
    "colab_type": "code",
    "id": "xuCWKueZQXxZ"
   },
   "outputs": [],
   "source": [
    "tokenizer = Tokenizer(num_words=5000)\n",
    "tokenizer.fit_on_texts(xtrain)\n",
    "\n",
    "xtrain = tokenizer.texts_to_sequences(xtrain)\n",
    "xtest = tokenizer.texts_to_sequences(xtest)"
   ]
  },
  {
   "cell_type": "code",
   "execution_count": 0,
   "metadata": {
    "colab": {},
    "colab_type": "code",
    "id": "TRJGfMxLS-KZ"
   },
   "outputs": [],
   "source": [
    "vocab_size = len(tokenizer.word_index) + 1\n",
    "maxlen = 200\n",
    "\n",
    "xtrain = pad_sequences(xtrain, padding='post', maxlen=maxlen)\n",
    "xtest = pad_sequences(xtest, padding='post', maxlen=maxlen)"
   ]
  },
  {
   "cell_type": "markdown",
   "metadata": {
    "colab_type": "text",
    "id": "bS3FlYdmeYSF"
   },
   "source": [
    "# MODEL1"
   ]
  },
  {
   "cell_type": "markdown",
   "metadata": {
    "colab_type": "text",
    "id": "Scd71fWNeYFV"
   },
   "source": []
  },
  {
   "cell_type": "code",
   "execution_count": 0,
   "metadata": {
    "colab": {
     "base_uri": "https://localhost:8080/",
     "height": 1000
    },
    "colab_type": "code",
    "id": "0ZoQtw_ST81p",
    "outputId": "3d315058-aa6c-4a50-82a0-a23ddfbdb16b"
   },
   "outputs": [
    {
     "name": "stdout",
     "output_type": "stream",
     "text": [
      "Train on 20000 samples, validate on 5000 samples\n",
      "Epoch 1/5\n",
      "20000/20000 [==============================] - 55s 3ms/sample - loss: 0.6723 - acc: 0.6079 - val_loss: 0.9488 - val_acc: 0.0000e+00\n",
      "Epoch 2/5\n",
      "20000/20000 [==============================] - 54s 3ms/sample - loss: 0.6575 - acc: 0.6250 - val_loss: 0.8328 - val_acc: 0.1706\n",
      "Epoch 3/5\n",
      "20000/20000 [==============================] - 54s 3ms/sample - loss: 0.6505 - acc: 0.6293 - val_loss: 0.9534 - val_acc: 0.1374\n",
      "Epoch 4/5\n",
      "20000/20000 [==============================] - 54s 3ms/sample - loss: 0.6468 - acc: 0.6353 - val_loss: 0.7794 - val_acc: 0.1422\n",
      "Epoch 5/5\n",
      "20000/20000 [==============================] - 55s 3ms/sample - loss: 0.6470 - acc: 0.6378 - val_loss: 1.1027 - val_acc: 0.2676\n"
     ]
    },
    {
     "data": {
      "image/png": "[encoded data removed]",
      "text/plain": [
       "<Figure size 432x288 with 1 Axes>"
      ]
     },
     "metadata": {
      "tags": []
     },
     "output_type": "display_data"
    },
    {
     "data": {
      "image/png": "[encoded data removed]",
      "text/plain": [
       "<Figure size 432x288 with 1 Axes>"
      ]
     },
     "metadata": {
      "tags": []
     },
     "output_type": "display_data"
    },
    {
     "name": "stdout",
     "output_type": "stream",
     "text": [
      "25000/25000 - 12s - loss: 0.7645 - acc: 0.5211\n",
      "Model: \"sequential_1\"\n",
      "_________________________________________________________________\n",
      "Layer (type)                 Output Shape              Param #   \n",
      "=================================================================\n",
      "embedding_1 (Embedding)      (None, None, 128)         128000    \n",
      "_________________________________________________________________\n",
      "rnn_1 (RNN)                  (None, 200)               65800     \n",
      "_________________________________________________________________\n",
      "dense_1 (Dense)              (None, 1)                 201       \n",
      "=================================================================\n",
      "Total params: 194,001\n",
      "Trainable params: 194,001\n",
      "Non-trainable params: 0\n",
      "_________________________________________________________________\n",
      "None\n",
      "test Accuracy 0.5210800170898438\n"
     ]
    }
   ],
   "source": [
    "cell = tf.nn.rnn_cell.BasicRNNCell(num_units=200,activation='tanh')\n",
    "model1 = models.Sequential()\n",
    "model1.add(layers.Embedding(1000,128))\n",
    "model1.add(layers.RNN(cell=cell))\n",
    "model1.add(layers.Dense(1,activation='sigmoid'))\n",
    "model1.compile(optimizer='adam',loss='binary_crossentropy',metrics=['accuracy'])\n",
    "\n",
    "history = model1.fit(xtrain, target, epochs=5, validation_split=0.2,shuffle=True)\n",
    "\n",
    "plt.ylabel('classification accuracy ')\n",
    "plt.xlabel('Iterations')\n",
    "plt.plot(history.history['acc'],'g')\n",
    "plt.show()\n",
    "\n",
    "plt.ylabel('Loss')\n",
    "plt.xlabel('Iterations')\n",
    "plt.plot(history.history['loss'],'r')\n",
    "plt.show()\n",
    "\n",
    "\n",
    "test_loss, test_acc = model1.evaluate(xtest, target, verbose=2)\n",
    "\n",
    "print(model1.summary())\n",
    "print(f'test Accuracy {test_acc}')"
   ]
  },
  {
   "cell_type": "markdown",
   "metadata": {
    "colab_type": "text",
    "id": "uM8xhYaIec3L"
   },
   "source": [
    "# MODEL2"
   ]
  },
  {
   "cell_type": "code",
   "execution_count": 67,
   "metadata": {
    "colab": {
     "base_uri": "https://localhost:8080/",
     "height": 202
    },
    "colab_type": "code",
    "id": "44MVSLxqXbrN",
    "outputId": "d54e6831-97bf-48bc-8839-1d5a2abb49ca"
   },
   "outputs": [
    {
     "name": "stdout",
     "output_type": "stream",
     "text": [
      "Train on 20000 samples, validate on 5000 samples\n",
      "Epoch 1/5\n",
      "20000/20000 [==============================] - 236s 12ms/step - loss: 0.6501 - acc: 0.6254 - val_loss: 0.7657 - val_acc: 0.1164\n",
      "Epoch 2/5\n",
      "20000/20000 [==============================] - 228s 11ms/step - loss: 0.5838 - acc: 0.7027 - val_loss: 0.7765 - val_acc: 0.7848\n",
      "Epoch 3/5\n",
      "20000/20000 [==============================] - 226s 11ms/step - loss: 0.6205 - acc: 0.6424 - val_loss: 0.8613 - val_acc: 0.2142\n",
      "Epoch 4/5\n",
      "20000/20000 [==============================] - 227s 11ms/step - loss: 0.5301 - acc: 0.7250 - val_loss: 0.3678 - val_acc: 0.8384\n",
      "Epoch 5/5\n",
      "20000/20000 [==============================] - 230s 11ms/step - loss: 0.3815 - acc: 0.8389 - val_loss: 0.3370 - val_acc: 0.8470\n"
     ]
    }
   ],
   "source": [
    "model2 = Sequential()\n",
    "model2.add(Embedding(1000, 128))\n",
    "model2.add(LSTM(200,activation=\"tanh\"))\n",
    "model2.add(Dense(1, activation='sigmoid'))\n",
    "model2.compile(optimizer='adam', loss='binary_crossentropy', metrics=['acc'])\n",
    "\n",
    "\n",
    "history = model2.fit(xtrain, target, epochs=5, validation_split = 0.2 ,shuffle=True)"
   ]
  },
  {
   "cell_type": "code",
   "execution_count": 69,
   "metadata": {
    "colab": {
     "base_uri": "https://localhost:8080/",
     "height": 810
    },
    "colab_type": "code",
    "id": "XIuo0qQTV5pn",
    "outputId": "1d9121fd-1a63-4b5f-c959-f37b75921296"
   },
   "outputs": [
    {
     "data": {
      "image/png": "[encoded data removed]",
      "text/plain": [
       "<Figure size 432x288 with 1 Axes>"
      ]
     },
     "metadata": {
      "tags": []
     },
     "output_type": "display_data"
    },
    {
     "data": {
      "image/png": "[encoded data removed]",
      "text/plain": [
       "<Figure size 432x288 with 1 Axes>"
      ]
     },
     "metadata": {
      "tags": []
     },
     "output_type": "display_data"
    },
    {
     "name": "stdout",
     "output_type": "stream",
     "text": [
      "Model: \"sequential_3\"\n",
      "_________________________________________________________________\n",
      "Layer (type)                 Output Shape              Param #   \n",
      "=================================================================\n",
      "embedding_3 (Embedding)      (None, None, 128)         128000    \n",
      "_________________________________________________________________\n",
      "lstm_3 (LSTM)                (None, 200)               263200    \n",
      "_________________________________________________________________\n",
      "dense_3 (Dense)              (None, 1)                 201       \n",
      "=================================================================\n",
      "Total params: 391,401\n",
      "Trainable params: 391,401\n",
      "Non-trainable params: 0\n",
      "_________________________________________________________________\n",
      "None\n",
      "test-accuracy 0.83632\n"
     ]
    }
   ],
   "source": [
    "plt.ylabel('classification accuracy ')\n",
    "plt.xlabel('Iterations')\n",
    "plt.plot(history.history['acc'],'g')\n",
    "plt.show()\n",
    "\n",
    "plt.ylabel('Loss')\n",
    "plt.xlabel('Iterations')\n",
    "plt.plot(history.history['loss'],'r')\n",
    "plt.show()\n",
    "\n",
    "test_loss, test_acc = model2.evaluate(xtest, target, verbose=2)\n",
    "print(model2.summary())\n",
    "print(f'test-accuracy {test_acc}')"
   ]
  },
  {
   "cell_type": "markdown",
   "metadata": {
    "colab_type": "text",
    "id": "BnsDDzCDegSx"
   },
   "source": [
    "# MODEL3"
   ]
  },
  {
   "cell_type": "code",
   "execution_count": 70,
   "metadata": {
    "colab": {
     "base_uri": "https://localhost:8080/",
     "height": 996
    },
    "colab_type": "code",
    "id": "MBcEFQ8bY0pN",
    "outputId": "2b401c6a-51ac-408d-979e-f14ebad44456"
   },
   "outputs": [
    {
     "name": "stdout",
     "output_type": "stream",
     "text": [
      "Train on 20000 samples, validate on 5000 samples\n",
      "Epoch 1/5\n",
      "20000/20000 [==============================] - 191s 10ms/step - loss: 0.6134 - acc: 0.6777 - val_loss: 0.8743 - val_acc: 0.0440\n",
      "Epoch 2/5\n",
      "20000/20000 [==============================] - 190s 9ms/step - loss: 0.4665 - acc: 0.7763 - val_loss: 0.5353 - val_acc: 0.7360\n",
      "Epoch 3/5\n",
      "20000/20000 [==============================] - 189s 9ms/step - loss: 0.3631 - acc: 0.8410 - val_loss: 0.5742 - val_acc: 0.7142\n",
      "Epoch 4/5\n",
      "20000/20000 [==============================] - 189s 9ms/step - loss: 0.3338 - acc: 0.8557 - val_loss: 0.3809 - val_acc: 0.8210\n",
      "Epoch 5/5\n",
      "20000/20000 [==============================] - 189s 9ms/step - loss: 0.3114 - acc: 0.8691 - val_loss: 0.4691 - val_acc: 0.7740\n"
     ]
    },
    {
     "data": {
      "image/png": "[encoded data removed]",
      "text/plain": [
       "<Figure size 432x288 with 1 Axes>"
      ]
     },
     "metadata": {
      "tags": []
     },
     "output_type": "display_data"
    },
    {
     "data": {
      "image/png": "[encoded data removed]",
      "text/plain": [
       "<Figure size 432x288 with 1 Axes>"
      ]
     },
     "metadata": {
      "tags": []
     },
     "output_type": "display_data"
    },
    {
     "name": "stdout",
     "output_type": "stream",
     "text": [
      "test-accuracy 0.8444\n",
      "Model: \"sequential_4\"\n",
      "_________________________________________________________________\n",
      "Layer (type)                 Output Shape              Param #   \n",
      "=================================================================\n",
      "embedding_4 (Embedding)      (None, None, 128)         128000    \n",
      "_________________________________________________________________\n",
      "gru_1 (GRU)                  (None, 200)               197400    \n",
      "_________________________________________________________________\n",
      "dense_4 (Dense)              (None, 1)                 201       \n",
      "=================================================================\n",
      "Total params: 325,601\n",
      "Trainable params: 325,601\n",
      "Non-trainable params: 0\n",
      "_________________________________________________________________\n",
      "None\n"
     ]
    }
   ],
   "source": [
    "model = Sequential()\n",
    "model.add(Embedding(1000, 128))\n",
    "model.add(GRU(200,activation='relu'))\n",
    "model.add(Dense(1, activation='sigmoid'))\n",
    "model.compile(optimizer='adam', loss='binary_crossentropy', metrics=['acc'])\n",
    "\n",
    "history = model.fit(xtrain, target, epochs=5, validation_split = 0.2 ,shuffle=True)\n",
    "plt.ylabel('classification accuracy ')\n",
    "plt.xlabel('Iterations')\n",
    "plt.plot(history.history['acc'],'g')\n",
    "plt.show()\n",
    "\n",
    "plt.ylabel('Loss')\n",
    "plt.xlabel('Iterations')\n",
    "plt.plot(history.history['loss'],'r')\n",
    "plt.show()\n",
    "\n",
    "test_loss, test_acc = model.evaluate(xtest, target, verbose=2)\n",
    "print(f'test-accuracy {test_acc}')\n",
    "print(model.summary())"
   ]
  },
  {
   "cell_type": "markdown",
   "metadata": {},
   "source": [
    "**Model2 and Model3 are better compared to Model1 because in normal rnn **"
   ]
  },
  {
   "cell_type": "markdown",
   "metadata": {
    "colab_type": "text",
    "id": "mBqjis8-jhAO"
   },
   "source": [
    "# Model5"
   ]
  },
  {
   "cell_type": "code",
   "execution_count": 71,
   "metadata": {
    "colab": {
     "base_uri": "https://localhost:8080/",
     "height": 202
    },
    "colab_type": "code",
    "id": "ul1AG98ve5oh",
    "outputId": "18c667ce-bafa-4f6f-c764-4b5ce6902580"
   },
   "outputs": [
    {
     "name": "stdout",
     "output_type": "stream",
     "text": [
      "Train on 20000 samples, validate on 5000 samples\n",
      "Epoch 1/5\n",
      "20000/20000 [==============================] - 549s 27ms/step - loss: 0.6490 - acc: 0.6422 - val_loss: 0.7767 - val_acc: 0.4396\n",
      "Epoch 2/5\n",
      "20000/20000 [==============================] - 545s 27ms/step - loss: 0.4714 - acc: 0.7805 - val_loss: 0.7854 - val_acc: 0.6068\n",
      "Epoch 3/5\n",
      "20000/20000 [==============================] - 545s 27ms/step - loss: 0.3621 - acc: 0.8428 - val_loss: 0.4752 - val_acc: 0.7850\n",
      "Epoch 4/5\n",
      "20000/20000 [==============================] - 544s 27ms/step - loss: 0.3174 - acc: 0.8631 - val_loss: 0.4333 - val_acc: 0.8052\n",
      "Epoch 5/5\n",
      "20000/20000 [==============================] - 546s 27ms/step - loss: 0.2930 - acc: 0.8754 - val_loss: 0.5175 - val_acc: 0.7672\n"
     ]
    }
   ],
   "source": [
    "model = Sequential()\n",
    "model.add(Embedding(1000, 128))\n",
    "model.add(GRU(200,return_sequences=True,activation=\"relu\"))\n",
    "model.add(GRU(200,return_sequences=True,activation=\"relu\"))\n",
    "model.add(GRU(200,activation=\"relu\"))\n",
    "model.add(Dense(1, activation='sigmoid'))\n",
    "model.compile(optimizer='adam', loss='binary_crossentropy', metrics=['acc'])\n",
    "history = model.fit(xtrain, target, epochs=5, validation_split = 0.2 ,shuffle=True)"
   ]
  },
  {
   "cell_type": "code",
   "execution_count": 72,
   "metadata": {
    "colab": {
     "base_uri": "https://localhost:8080/",
     "height": 877
    },
    "colab_type": "code",
    "id": "aAcweXOvjxZF",
    "outputId": "5e94604e-3ac0-4195-de12-70b4e3c953d3"
   },
   "outputs": [
    {
     "data": {
      "image/png": "[encoded data removed]",
      "text/plain": [
       "<Figure size 432x288 with 1 Axes>"
      ]
     },
     "metadata": {
      "tags": []
     },
     "output_type": "display_data"
    },
    {
     "data": {
      "image/png": "[encoded data removed]",
      "text/plain": [
       "<Figure size 432x288 with 1 Axes>"
      ]
     },
     "metadata": {
      "tags": []
     },
     "output_type": "display_data"
    },
    {
     "name": "stdout",
     "output_type": "stream",
     "text": [
      "test-accuracy 0.8454\n",
      "Model: \"sequential_5\"\n",
      "_________________________________________________________________\n",
      "Layer (type)                 Output Shape              Param #   \n",
      "=================================================================\n",
      "embedding_5 (Embedding)      (None, None, 128)         128000    \n",
      "_________________________________________________________________\n",
      "gru_2 (GRU)                  (None, None, 200)         197400    \n",
      "_________________________________________________________________\n",
      "gru_3 (GRU)                  (None, None, 200)         240600    \n",
      "_________________________________________________________________\n",
      "gru_4 (GRU)                  (None, 200)               240600    \n",
      "_________________________________________________________________\n",
      "dense_5 (Dense)              (None, 1)                 201       \n",
      "=================================================================\n",
      "Total params: 806,801\n",
      "Trainable params: 806,801\n",
      "Non-trainable params: 0\n",
      "_________________________________________________________________\n",
      "None\n"
     ]
    }
   ],
   "source": [
    "plt.xlabel('Iterations')\n",
    "plt.plot(history.history['acc'],'g')\n",
    "plt.show()\n",
    "\n",
    "plt.ylabel('Loss')\n",
    "plt.xlabel('Iterations')\n",
    "plt.plot(history.history['loss'],'r')\n",
    "plt.show()\n",
    "\n",
    "test_loss, test_acc = model.evaluate(xtest, target, verbose=2)\n",
    "print(f'test-accuracy {test_acc}')\n",
    "print(model.summary())"
   ]
  },
  {
   "cell_type": "markdown",
   "metadata": {
    "colab_type": "text",
    "id": "M2_r0Ku6gEsY"
   },
   "source": [
    "# MODEL4"
   ]
  },
  {
   "cell_type": "code",
   "execution_count": 32,
   "metadata": {
    "colab": {
     "base_uri": "https://localhost:8080/",
     "height": 1000
    },
    "colab_type": "code",
    "id": "tjnqrn-4dgFb",
    "outputId": "a98f4130-5e69-4a0c-f866-499455555a39"
   },
   "outputs": [
    {
     "name": "stdout",
     "output_type": "stream",
     "text": [
      "Train on 20000 samples, validate on 5000 samples\n",
      "Epoch 1/5\n",
      "20000/20000 [==============================] - 395s 20ms/sample - loss: 0.6747 - acc: 0.6275 - val_loss: 0.7491 - val_acc: 0.3018\n",
      "Epoch 2/5\n",
      "20000/20000 [==============================] - 392s 20ms/sample - loss: 0.4964 - acc: 0.7435 - val_loss: 0.7935 - val_acc: 0.5254\n",
      "Epoch 3/5\n",
      "20000/20000 [==============================] - 391s 20ms/sample - loss: 0.3249 - acc: 0.8632 - val_loss: 0.5180 - val_acc: 0.7794\n",
      "Epoch 4/5\n",
      "20000/20000 [==============================] - 391s 20ms/sample - loss: 0.2481 - acc: 0.9022 - val_loss: 0.3396 - val_acc: 0.8492\n",
      "Epoch 5/5\n",
      "20000/20000 [==============================] - 391s 20ms/sample - loss: 0.1986 - acc: 0.9234 - val_loss: 0.5178 - val_acc: 0.7806\n"
     ]
    },
    {
     "data": {
      "image/png": "[encoded data removed]",
      "text/plain": [
       "<Figure size 432x288 with 1 Axes>"
      ]
     },
     "metadata": {
      "tags": []
     },
     "output_type": "display_data"
    },
    {
     "data": {
      "image/png": "[encoded data removed]",
      "text/plain": [
       "<Figure size 432x288 with 1 Axes>"
      ]
     },
     "metadata": {
      "tags": []
     },
     "output_type": "display_data"
    },
    {
     "name": "stdout",
     "output_type": "stream",
     "text": [
      "25000/25000 - 117s - loss: 0.3544 - acc: 0.8522\n",
      "Model: \"sequential_1\"\n",
      "_________________________________________________________________\n",
      "Layer (type)                 Output Shape              Param #   \n",
      "=================================================================\n",
      "embedding_1 (Embedding)      (None, None, 128)         1280000   \n",
      "_________________________________________________________________\n",
      "gru_2 (GRU)                  (None, None, 200)         197400    \n",
      "_________________________________________________________________\n",
      "gru_3 (GRU)                  (None, 200)               240600    \n",
      "_________________________________________________________________\n",
      "dense_1 (Dense)              (None, 1)                 201       \n",
      "=================================================================\n",
      "Total params: 1,718,201\n",
      "Trainable params: 1,718,201\n",
      "Non-trainable params: 0\n",
      "_________________________________________________________________\n",
      "None\n",
      "test Accuracy 0.8521999716758728\n"
     ]
    }
   ],
   "source": [
    "model4 = models.Sequential()\n",
    "model4.add(layers.Embedding(10000,128))\n",
    "model4.add(layers.GRU(units=200,return_sequences=True, activation='relu'))\n",
    "model4.add(layers.GRU(units=200,activation='relu'))\n",
    "model4.add(layers.Dense(1,activation='sigmoid'))\n",
    "model4.compile(optimizer='adam',loss='binary_crossentropy',metrics=['accuracy'])\n",
    "\n",
    "history = model4.fit(xtrain, target, epochs=5, validation_split = 0.2 ,shuffle=True)\n",
    "\n",
    "plt.ylabel('classification accuracy ')\n",
    "plt.xlabel('Iterations')\n",
    "plt.plot(history.history['acc'],'g')\n",
    "plt.show()\n",
    "\n",
    "plt.ylabel('Loss')\n",
    "plt.xlabel('Iterations')\n",
    "plt.plot(history.history['loss'],'r')\n",
    "plt.show()\n",
    "test_loss, test_acc = model4.evaluate(xtest, target, verbose=2)\n",
    "\n",
    "print(model4.summary())\n",
    "print(f'test Accuracy {test_acc}')\n"
   ]
  },
  {
   "cell_type": "code",
   "execution_count": 0,
   "metadata": {
    "colab": {},
    "colab_type": "code",
    "id": "vdQqS9ageSOz"
   },
   "outputs": [],
   "source": []
  }
 ],
 "metadata": {
  "accelerator": "GPU",
  "colab": {
   "collapsed_sections": [],
   "name": "Sentimental_Analysis.ipynb",
   "provenance": []
  },
  "kernelspec": {
   "display_name": "Python 3",
   "language": "python",
   "name": "python3"
  },
  "language_info": {
   "codemirror_mode": {
    "name": "ipython",
    "version": 3
   },
   "file_extension": ".py",
   "mimetype": "text/x-python",
   "name": "python",
   "nbconvert_exporter": "python",
   "pygments_lexer": "ipython3",
   "version": "3.7.1"
  }
 },
 "nbformat": 4,
 "nbformat_minor": 1
}
