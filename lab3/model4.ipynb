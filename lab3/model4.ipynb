{
  "nbformat": 4,
  "nbformat_minor": 0,
  "metadata": {
    "colab": {
      "name": "model4.ipynb",
      "provenance": [],
      "collapsed_sections": []
    },
    "kernelspec": {
      "name": "python3",
      "display_name": "Python 3"
    },
    "accelerator": "GPU"
  },
  "cells": [
    {
      "cell_type": "code",
      "metadata": {
        "id": "QLPv1aObc1jG",
        "colab_type": "code",
        "colab": {
          "base_uri": "https://localhost:8080/",
          "height": 79
        },
        "outputId": "5fa139eb-f916-46e5-f283-45001ca11426"
      },
      "source": [
        "import tensorflow as tf\n",
        "from tensorflow.keras import datasets, layers, models\n",
        "from tensorflow import keras\n",
        "from keras.preprocessing.sequence import pad_sequences\n",
        "import re\n",
        "import matplotlib.pyplot as plt\n",
        "import numpy as np\n",
        "from keras.preprocessing.text import one_hot\n",
        "from keras.preprocessing.sequence import pad_sequences\n",
        "from keras.models import Sequential\n",
        "from keras.layers.core import Activation, Dropout, Dense\n",
        "from keras.layers import Flatten, LSTM ,RNN, GRU\n",
        "from keras.layers import GlobalMaxPooling1D\n",
        "from keras.layers.embeddings import Embedding\n",
        "from sklearn.model_selection import train_test_split\n",
        "from keras.preprocessing.text import Tokenizer"
      ],
      "execution_count": 6,
      "outputs": [
        {
          "output_type": "display_data",
          "data": {
            "text/html": [
              "<p style=\"color: red;\">\n",
              "The default version of TensorFlow in Colab will soon switch to TensorFlow 2.x.<br>\n",
              "We recommend you <a href=\"https://www.tensorflow.org/guide/migrate\" target=\"_blank\">upgrade</a> now \n",
              "or ensure your notebook will continue to use TensorFlow 1.x via the <code>%tensorflow_version 1.x</code> magic:\n",
              "<a href=\"https://colab.research.google.com/notebooks/tensorflow_version.ipynb\" target=\"_blank\">more info</a>.</p>\n"
            ],
            "text/plain": [
              "<IPython.core.display.HTML object>"
            ]
          },
          "metadata": {
            "tags": []
          }
        },
        {
          "output_type": "stream",
          "text": [
            "Using TensorFlow backend.\n"
          ],
          "name": "stderr"
        }
      ]
    },
    {
      "cell_type": "code",
      "metadata": {
        "id": "tvY5JL8NfzCv",
        "colab_type": "code",
        "colab": {}
      },
      "source": [
        "test = open(\"/content/gdrive/My Drive/test.txt\",'r')\n",
        "train = open(\"/content/gdrive/My Drive/train.txt\",'r')"
      ],
      "execution_count": 0,
      "outputs": []
    },
    {
      "cell_type": "code",
      "metadata": {
        "id": "l2dQqONOc38U",
        "colab_type": "code",
        "colab": {}
      },
      "source": [
        "xtest = test.readlines()\n",
        "xtrain = train.readlines()"
      ],
      "execution_count": 0,
      "outputs": []
    },
    {
      "cell_type": "code",
      "metadata": {
        "id": "do-dvt64csKP",
        "colab_type": "code",
        "colab": {}
      },
      "source": [
        "def clean_sentence(sentence):\n",
        "  TAG_RE = re.compile(r'<[^>]+>')\n",
        "  sentence = TAG_RE.sub(' ',sentence)\n",
        "  sentence = re.sub('[^a-zA-Z]', ' ', sentence)\n",
        "  sentence = re.sub(r\"\\s+[a-zA-Z]\\s+\", ' ', sentence)\n",
        "  sentence = re.sub(r'\\s+', ' ', sentence)\n",
        "  sentence = sentence.lower()\n",
        "  return sentence"
      ],
      "execution_count": 0,
      "outputs": []
    },
    {
      "cell_type": "code",
      "metadata": {
        "id": "iok1kryAfpXB",
        "colab_type": "code",
        "colab": {
          "base_uri": "https://localhost:8080/",
          "height": 34
        },
        "outputId": "59d2fba1-76b8-47cc-9ac9-35a24aea0acc"
      },
      "source": [
        "xtest = [clean_sentence(sen) for sen in xtest]\n",
        "xtrain = [clean_sentence(sen) for sen in xtrain]\n",
        "print(len(xtest),len(xtrain))"
      ],
      "execution_count": 28,
      "outputs": [
        {
          "output_type": "stream",
          "text": [
            "25000 25000\n"
          ],
          "name": "stdout"
        }
      ]
    },
    {
      "cell_type": "code",
      "metadata": {
        "id": "qiCKCT68dH2Q",
        "colab_type": "code",
        "colab": {}
      },
      "source": [
        "target = [1 if i<12500 else 0 for i in range(25000)]\n",
        "target = np.array(target)"
      ],
      "execution_count": 0,
      "outputs": []
    },
    {
      "cell_type": "code",
      "metadata": {
        "id": "yR3v5RccdM4r",
        "colab_type": "code",
        "colab": {}
      },
      "source": [
        "tokenizer = Tokenizer(num_words=5000)\n",
        "tokenizer.fit_on_texts(xtrain)\n",
        "\n",
        "xtrain = tokenizer.texts_to_sequences(xtrain)\n",
        "xtest = tokenizer.texts_to_sequences(xtest)"
      ],
      "execution_count": 0,
      "outputs": []
    },
    {
      "cell_type": "code",
      "metadata": {
        "id": "oB-Fs04vdPhV",
        "colab_type": "code",
        "colab": {}
      },
      "source": [
        "vocab_size = len(tokenizer.word_index) + 1\n",
        "maxlen = 200\n",
        "\n",
        "xtrain = pad_sequences(xtrain, padding='post', maxlen=maxlen)\n",
        "xtest = pad_sequences(xtest, padding='post', maxlen=maxlen)"
      ],
      "execution_count": 0,
      "outputs": []
    },
    {
      "cell_type": "markdown",
      "metadata": {
        "id": "M2_r0Ku6gEsY",
        "colab_type": "text"
      },
      "source": [
        "#MODEL4"
      ]
    },
    {
      "cell_type": "code",
      "metadata": {
        "id": "tjnqrn-4dgFb",
        "colab_type": "code",
        "colab": {
          "base_uri": "https://localhost:8080/",
          "height": 1000
        },
        "outputId": "a98f4130-5e69-4a0c-f866-499455555a39"
      },
      "source": [
        "model4 = models.Sequential()\n",
        "model4.add(layers.Embedding(10000,128))\n",
        "model4.add(layers.GRU(units=200,return_sequences=True, activation='relu'))\n",
        "model4.add(layers.GRU(units=200,activation='relu'))\n",
        "model4.add(layers.Dense(1,activation='sigmoid'))\n",
        "model4.compile(optimizer='adam',loss='binary_crossentropy',metrics=['accuracy'])\n",
        "\n",
        "history = model4.fit(xtrain, target, epochs=5, validation_split = 0.2 ,shuffle=True)\n",
        "\n",
        "plt.ylabel('classification accuracy ')\n",
        "plt.xlabel('Iterations')\n",
        "plt.plot(history.history['acc'],'g')\n",
        "plt.show()\n",
        "\n",
        "plt.ylabel('Loss')\n",
        "plt.xlabel('Iterations')\n",
        "plt.plot(history.history['loss'],'r')\n",
        "plt.show()\n",
        "test_loss, test_acc = model4.evaluate(xtest, target, verbose=2)\n",
        "\n",
        "print(model4.summary())\n",
        "print(f'test Accuracy {test_acc}')\n"
      ],
      "execution_count": 32,
      "outputs": [
        {
          "output_type": "stream",
          "text": [
            "Train on 20000 samples, validate on 5000 samples\n",
            "Epoch 1/5\n",
            "20000/20000 [==============================] - 395s 20ms/sample - loss: 0.6747 - acc: 0.6275 - val_loss: 0.7491 - val_acc: 0.3018\n",
            "Epoch 2/5\n",
            "20000/20000 [==============================] - 392s 20ms/sample - loss: 0.4964 - acc: 0.7435 - val_loss: 0.7935 - val_acc: 0.5254\n",
            "Epoch 3/5\n",
            "20000/20000 [==============================] - 391s 20ms/sample - loss: 0.3249 - acc: 0.8632 - val_loss: 0.5180 - val_acc: 0.7794\n",
            "Epoch 4/5\n",
            "20000/20000 [==============================] - 391s 20ms/sample - loss: 0.2481 - acc: 0.9022 - val_loss: 0.3396 - val_acc: 0.8492\n",
            "Epoch 5/5\n",
            "20000/20000 [==============================] - 391s 20ms/sample - loss: 0.1986 - acc: 0.9234 - val_loss: 0.5178 - val_acc: 0.7806\n"
          ],
          "name": "stdout"
        },
        {
          "output_type": "display_data",
          "data": {
            "image/png": "[encoded data removed]",
            "text/plain": [
              "<Figure size 432x288 with 1 Axes>"
            ]
          },
          "metadata": {
            "tags": []
          }
        },
        {
          "output_type": "display_data",
          "data": {
            "image/png": "[encoded data removed]",
            "text/plain": [
              "<Figure size 432x288 with 1 Axes>"
            ]
          },
          "metadata": {
            "tags": []
          }
        },
        {
          "output_type": "stream",
          "text": [
            "25000/25000 - 117s - loss: 0.3544 - acc: 0.8522\n",
            "Model: \"sequential_1\"\n",
            "_________________________________________________________________\n",
            "Layer (type)                 Output Shape              Param #   \n",
            "=================================================================\n",
            "embedding_1 (Embedding)      (None, None, 128)         1280000   \n",
            "_________________________________________________________________\n",
            "gru_2 (GRU)                  (None, None, 200)         197400    \n",
            "_________________________________________________________________\n",
            "gru_3 (GRU)                  (None, 200)               240600    \n",
            "_________________________________________________________________\n",
            "dense_1 (Dense)              (None, 1)                 201       \n",
            "=================================================================\n",
            "Total params: 1,718,201\n",
            "Trainable params: 1,718,201\n",
            "Non-trainable params: 0\n",
            "_________________________________________________________________\n",
            "None\n",
            "test Accuracy 0.8521999716758728\n"
          ],
          "name": "stdout"
        }
      ]
    },
    {
      "cell_type": "code",
      "metadata": {
        "id": "vdQqS9ageSOz",
        "colab_type": "code",
        "colab": {}
      },
      "source": [
        ""
      ],
      "execution_count": 0,
      "outputs": []
    }
  ]
}